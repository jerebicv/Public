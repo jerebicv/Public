{
 "cells": [
  {
   "cell_type": "code",
   "execution_count": 33,
   "metadata": {},
   "outputs": [],
   "source": [
    "# Load packages\n",
    "import numpy as np\n",
    "import pandas as pd\n",
    "import pandas_profiling as pf\n",
    "import statsmodels.formula.api as smf\n",
    "\n",
    "import catboost\n",
    "from catboost import Pool,CatBoostClassifier\n",
    "\n",
    "import optbinning\n",
    "from optbinning import Scorecard, BinningProcess\n",
    "from optbinning.scorecard.plots import plot_ks, plot_auc_roc\n",
    "\n",
    "from sklearn.model_selection import train_test_split\n",
    "from sklearn.cluster import KMeans\n",
    "from sklearn.model_selection import StratifiedKFold,train_test_split,KFold\n",
    "from sklearn.metrics import roc_auc_score\n",
    "from sklearn.linear_model import LogisticRegression\n",
    "\n",
    "from sklearn.pipeline import Pipeline\n",
    "from sklearn.preprocessing import MinMaxScaler, StandardScaler, OneHotEncoder\n",
    "from sklearn.impute import SimpleImputer\n",
    "from sklearn.compose import ColumnTransformer\n",
    "from category_encoders import OrdinalEncoder as oe\n",
    "from catboost import CatBoostClassifier\n",
    "from catboost import Pool, cv\n",
    "from sklearn.metrics import roc_curve, roc_auc_score\n",
    "import optuna\n",
    "\n",
    "import matplotlib.pyplot as plt\n",
    "%matplotlib inline\n",
    "from scipy import stats\n",
    "import re\n",
    "import seaborn as sns\n",
    "import os\n",
    "import warnings\n",
    "warnings.filterwarnings('ignore') # if there are any warning due to version mismatch, it will be ignored"
   ]
  },
  {
   "cell_type": "code",
   "execution_count": 2,
   "metadata": {},
   "outputs": [],
   "source": [
    "## Read & join datasets\n",
    "in_features=pd.read_csv('.\\\\training_set_features.csv')\n",
    "in_labels=pd.read_csv('.\\\\training_set_labels.csv')\n",
    "\n",
    "# Evaluate test features and prepare submission output\n",
    "val=pd.read_csv('.\\\\test_set_features.csv')\n",
    "submission_format=pd.read_csv('.\\\\submission_format.csv')\n",
    "\n",
    "train_sample = pd.merge(in_features, in_labels, on='respondent_id')\n",
    "\n",
    "train_orig, test_orig = train_test_split(train_sample, train_size=(2/3), random_state=44)"
   ]
  },
  {
   "cell_type": "markdown",
   "metadata": {},
   "source": [
    "## 0) Dataset preparation"
   ]
  },
  {
   "cell_type": "code",
   "execution_count": 3,
   "metadata": {},
   "outputs": [],
   "source": [
    "numerical_vars = ['h1n1_concern','h1n1_knowledge','behavioral_antiviral_meds','behavioral_avoidance','behavioral_face_mask',\n",
    "                  'behavioral_wash_hands','behavioral_large_gatherings','behavioral_outside_home','behavioral_touch_face',\n",
    "                  'doctor_recc_h1n1','doctor_recc_seasonal','chronic_med_condition','child_under_6_months',\n",
    "                  'health_worker','health_insurance','opinion_h1n1_vacc_effective','opinion_h1n1_risk',\n",
    "                  'opinion_h1n1_sick_from_vacc','opinion_seas_vacc_effective','opinion_seas_risk',\n",
    "                  'opinion_seas_sick_from_vacc','household_adults','household_children']\n",
    "\n",
    "char_vars = ['age_group','education','race','sex','income_poverty','marital_status','rent_or_own',\n",
    "             'employment_status','hhs_geo_region','census_msa',\n",
    "            'employment_industry','employment_occupation']\n",
    "\n",
    "target_vars = ['h1n1_vaccine','seasonal_vaccine']\n",
    "\n",
    "id_var = ['respondent_id']\n",
    "\n",
    "relevant_vars = np.concatenate((numerical_vars, char_vars, target_vars, id_var), axis=None)"
   ]
  },
  {
   "cell_type": "code",
   "execution_count": 4,
   "metadata": {},
   "outputs": [],
   "source": [
    "train = train_orig[relevant_vars].copy()\n",
    "test = test_orig[relevant_vars].copy()\n",
    "#train_sample_non_missing = train_sample.copy()"
   ]
  },
  {
   "cell_type": "code",
   "execution_count": 5,
   "metadata": {},
   "outputs": [],
   "source": [
    "# Treatment for missing values\n",
    "\n",
    "for i in numerical_vars:\n",
    "    train[i] = train[i].fillna(-1)\n",
    "    test[i] = test[i].fillna(-1)\n",
    "    val[i] = val[i].fillna(-1)\n",
    "    \n",
    "for i in char_vars:\n",
    "    train[i] = train[i].fillna('missing_info')\n",
    "    test[i] = test[i].fillna('missing_info')\n",
    "    val[i] = val[i].fillna('missing_info')"
   ]
  },
  {
   "cell_type": "markdown",
   "metadata": {},
   "source": [
    "New variables"
   ]
  },
  {
   "cell_type": "code",
   "execution_count": 6,
   "metadata": {},
   "outputs": [],
   "source": [
    "train['total_persons'] = train['household_adults']+train['household_children']\n",
    "test['total_persons'] = test['household_adults']+test['household_children']\n",
    "val['total_persons'] = val['household_adults']+val['household_children']\n",
    "\n",
    "train['face_mask_wash_hand'] = train['behavioral_face_mask']+train['behavioral_wash_hands']\n",
    "train['face_mask_touch_face'] = train['behavioral_face_mask'] + train['behavioral_touch_face']\n",
    "train['wash_hands_touch_face'] = train['behavioral_wash_hands']+train['behavioral_touch_face']\n",
    "train['opinion_seas_eff_risk'] = train['opinion_seas_vacc_effective']+train['opinion_seas_risk']\n",
    "train['opinion_h1n1_eff_risk'] = train['opinion_h1n1_vacc_effective']+train['opinion_h1n1_risk']\n",
    "train['opinio_seas_vacc_eff_sick'] = train['opinion_seas_vacc_effective'] + train['opinion_seas_sick_from_vacc']\n",
    "train['opinon_h1n1_vacc_eff_sick'] = train['opinion_h1n1_vacc_effective']+train['opinion_h1n1_sick_from_vacc']\n",
    "train['h1n1_concern_knowledge']   = train['h1n1_concern'] + train['h1n1_knowledge']\n",
    "train['behaviour_large_gath_outside_home']  = train['behavioral_large_gatherings'] + train['behavioral_outside_home']\n",
    "train['opinion_seas_vaccine']  = train['opinion_seas_risk']+train['opinion_seas_sick_from_vacc']\n",
    "train['opinion_h1n1_vaccine']  = train['opinion_h1n1_risk']+train['opinion_h1n1_sick_from_vacc']\n",
    "\n",
    "test['face_mask_wash_hand'] = test['behavioral_face_mask']+test['behavioral_wash_hands']\n",
    "test['face_mask_touch_face'] = test['behavioral_face_mask'] + test['behavioral_touch_face']\n",
    "test['wash_hands_touch_face'] = test['behavioral_wash_hands']+test['behavioral_touch_face']\n",
    "test['opinion_seas_eff_risk'] = test['opinion_seas_vacc_effective']+test['opinion_seas_risk']\n",
    "test['opinion_h1n1_eff_risk'] = test['opinion_h1n1_vacc_effective']+test['opinion_h1n1_risk']\n",
    "test['opinio_seas_vacc_eff_sick'] = test['opinion_seas_vacc_effective'] + test['opinion_seas_sick_from_vacc']\n",
    "test['opinon_h1n1_vacc_eff_sick'] = test['opinion_h1n1_vacc_effective']+test['opinion_h1n1_sick_from_vacc']\n",
    "test['h1n1_concern_knowledge']   = test['h1n1_concern'] + test['h1n1_knowledge']\n",
    "test['behaviour_large_gath_outside_home']  = test['behavioral_large_gatherings'] + test['behavioral_outside_home']\n",
    "test['opinion_seas_vaccine']  = test['opinion_seas_risk']+test['opinion_seas_sick_from_vacc']\n",
    "test['opinion_h1n1_vaccine']  = test['opinion_h1n1_risk']+test['opinion_h1n1_sick_from_vacc']\n",
    "\n",
    "val['face_mask_wash_hand'] = val['behavioral_face_mask']+val['behavioral_wash_hands']\n",
    "val['face_mask_touch_face'] = val['behavioral_face_mask'] + val['behavioral_touch_face']\n",
    "val['wash_hands_touch_face'] = val['behavioral_wash_hands']+val['behavioral_touch_face']\n",
    "val['opinion_seas_eff_risk'] = val['opinion_seas_vacc_effective']+val['opinion_seas_risk']\n",
    "val['opinion_h1n1_eff_risk'] = val['opinion_h1n1_vacc_effective']+val['opinion_h1n1_risk']\n",
    "val['opinio_seas_vacc_eff_sick'] = val['opinion_seas_vacc_effective'] + val['opinion_seas_sick_from_vacc']\n",
    "val['opinon_h1n1_vacc_eff_sick'] = val['opinion_h1n1_vacc_effective']+val['opinion_h1n1_sick_from_vacc']\n",
    "val['h1n1_concern_knowledge']   = val['h1n1_concern'] + val['h1n1_knowledge']\n",
    "val['behaviour_large_gath_outside_home']  = val['behavioral_large_gatherings'] + val['behavioral_outside_home']\n",
    "val['opinion_seas_vaccine']  = val['opinion_seas_risk']+val['opinion_seas_sick_from_vacc']\n",
    "val['opinion_h1n1_vaccine']  = val['opinion_h1n1_risk']+val['opinion_h1n1_sick_from_vacc']"
   ]
  },
  {
   "cell_type": "code",
   "execution_count": 7,
   "metadata": {},
   "outputs": [
    {
     "data": {
      "text/plain": [
       "KMeans(n_clusters=4, random_state=42)"
      ]
     },
     "execution_count": 7,
     "metadata": {},
     "output_type": "execute_result"
    }
   ],
   "source": [
    "#Introducing \"clusters\" variable using KMeans\n",
    "kmeans = KMeans(4,random_state=42)\n",
    "kmeans.fit(train[numerical_vars])"
   ]
  },
  {
   "cell_type": "code",
   "execution_count": 8,
   "metadata": {},
   "outputs": [],
   "source": [
    "# assigning clusters\n",
    "train['clusters'] = kmeans.predict(train[numerical_vars])\n",
    "test['clusters']  = kmeans.predict(test[numerical_vars])\n",
    "val['clusters']  = kmeans.predict(val[numerical_vars])"
   ]
  },
  {
   "cell_type": "code",
   "execution_count": 9,
   "metadata": {},
   "outputs": [],
   "source": [
    "train_A = train.copy()\n",
    "test_A = test.copy()\n",
    "val_A = val.copy()\n",
    "\n",
    "train_B = train.copy()\n",
    "test_B = test.copy()\n",
    "val_B = val.copy()"
   ]
  },
  {
   "cell_type": "code",
   "execution_count": 10,
   "metadata": {},
   "outputs": [],
   "source": [
    "target_mean_A = train_A.groupby(['clusters']).mean()[['h1n1_vaccine']]\n",
    "for i in list(target_mean_A.columns):\n",
    "  target_mean_A.rename({i:i+\"_mean\"},axis=1,inplace=True)\n",
    "\n",
    "train_A = train_A.merge(target_mean_A,how='left',on='clusters')\n",
    "test_A = test_A.merge(target_mean_A,how=\"left\",on='clusters')\n",
    "val_A = val_A.merge(target_mean_A,how=\"left\",on='clusters')"
   ]
  },
  {
   "cell_type": "code",
   "execution_count": 11,
   "metadata": {},
   "outputs": [],
   "source": [
    "target_mean_B = train_B.groupby(['clusters']).mean()[['seasonal_vaccine']]\n",
    "for i in list(target_mean_B.columns):\n",
    "  target_mean_B.rename({i:i+\"_mean\"},axis=1,inplace=True)\n",
    "\n",
    "train_B = train_B.merge(target_mean_B,how='left',on='clusters')\n",
    "test_B = test_B.merge(target_mean_B,how=\"left\",on='clusters')\n",
    "val_B = val_B.merge(target_mean_B,how='left',on='clusters')"
   ]
  },
  {
   "cell_type": "code",
   "execution_count": 12,
   "metadata": {},
   "outputs": [],
   "source": [
    "train_combined = pd.merge(train_A.drop(columns = ['clusters']), train_B[['respondent_id', 'seasonal_vaccine_mean']], on='respondent_id')\n",
    "test_combined = pd.merge(test_A.drop(columns = ['clusters']), test_B[['respondent_id', 'seasonal_vaccine_mean']], on='respondent_id')\n",
    "val_combined = pd.merge(val_A.drop(columns = ['clusters']), val_B[['respondent_id', 'seasonal_vaccine_mean']], on='respondent_id')"
   ]
  },
  {
   "cell_type": "markdown",
   "metadata": {},
   "source": [
    "## 1) Logistic regression"
   ]
  },
  {
   "cell_type": "code",
   "execution_count": 13,
   "metadata": {},
   "outputs": [],
   "source": [
    "# Define the feature list from dataset (including categorical and numerical)\n",
    "list_features = train_combined.drop(columns=['h1n1_vaccine','seasonal_vaccine']).columns.values\n",
    "\n",
    "# Define categorical features list\n",
    "#list_categorical = char_vars\n",
    "list_categorical = list_features\n",
    "\n",
    "# Define selection criteria for BinningProcess\n",
    "selection_criteria = {\"iv\": {\"min\": 0.005, 'max':0.5, \"strategy\": \"highest\"}}\n",
    "\n",
    "# Instatiate BinningProcess\n",
    "binning_process_t1 = BinningProcess(\n",
    "    categorical_variables=list_categorical,\n",
    "    variable_names=list_features,\n",
    "    selection_criteria=selection_criteria,\n",
    ")\n",
    "\n",
    "binning_process_t2 = BinningProcess(\n",
    "    categorical_variables=list_categorical,\n",
    "    variable_names=list_features,\n",
    "    selection_criteria=selection_criteria,\n",
    ")"
   ]
  },
  {
   "cell_type": "code",
   "execution_count": 14,
   "metadata": {},
   "outputs": [],
   "source": [
    "# Choosing a linear estimator for h1n1_vaccine\n",
    "logreg_t1 = LogisticRegression(C=3, max_iter=1000, random_state=161)\n",
    "# Choosing a linear estimator for seasonal_vaccine\n",
    "logreg_t2 = LogisticRegression(C=3, max_iter=1000, random_state=161)"
   ]
  },
  {
   "cell_type": "code",
   "execution_count": 15,
   "metadata": {},
   "outputs": [
    {
     "data": {
      "text/plain": [
       "Scorecard(binning_process=BinningProcess(categorical_variables=array(['h1n1_concern', 'h1n1_knowledge', 'behavioral_antiviral_meds',\n",
       "       'behavioral_avoidance', 'behavioral_face_mask',\n",
       "       'behavioral_wash_hands', 'behavioral_large_gatherings',\n",
       "       'behavioral_outside_home', 'behavioral_touch_face',\n",
       "       'doctor_recc_h1n1', 'doctor_recc_seasonal',\n",
       "       'chronic_med_condition', 'chi...\n",
       "       'opinon_h1n1_vacc_eff_sick', 'h1n1_concern_knowledge',\n",
       "       'behaviour_large_gath_outside_home', 'opinion_seas_vaccine',\n",
       "       'opinion_h1n1_vaccine', 'h1n1_vaccine_mean',\n",
       "       'seasonal_vaccine_mean'], dtype=object)),\n",
       "          estimator=LogisticRegression(C=3, max_iter=1000, random_state=161),\n",
       "          reverse_scorecard=True, scaling_method='min_max',\n",
       "          scaling_method_params={'max': 1000, 'min': 0})"
      ]
     },
     "execution_count": 15,
     "metadata": {},
     "output_type": "execute_result"
    }
   ],
   "source": [
    "# Define scaling method and values\n",
    "scaling_method = \"min_max\"\n",
    "scaling_method_data = {\"min\": 0, \"max\": 1000}\n",
    "\n",
    "# Instatiate and fit Scorecard\n",
    "scorecard_t1 = Scorecard(\n",
    "    binning_process=binning_process_t1,\n",
    "    estimator=logreg_t1,\n",
    "    scaling_method=scaling_method,\n",
    "    scaling_method_params=scaling_method_data,\n",
    "    intercept_based=False,\n",
    "    reverse_scorecard=True,\n",
    ")\n",
    "\n",
    "# Instatiate and fit Scorecard\n",
    "scorecard_t2 = Scorecard(\n",
    "    binning_process=binning_process_t2,\n",
    "    estimator=logreg_t2,\n",
    "    scaling_method=scaling_method,\n",
    "    scaling_method_params=scaling_method_data,\n",
    "    intercept_based=False,\n",
    "    reverse_scorecard=True,\n",
    ")\n",
    "\n",
    "scorecard_t1.fit(train_combined.drop(columns=['h1n1_vaccine','seasonal_vaccine']), y =train['h1n1_vaccine'])\n",
    "scorecard_t2.fit(train_combined.drop(columns=['h1n1_vaccine','seasonal_vaccine']), y =train['seasonal_vaccine'])"
   ]
  },
  {
   "cell_type": "code",
   "execution_count": 16,
   "metadata": {},
   "outputs": [],
   "source": [
    "# Evaluate \n",
    "# Assign score and predicted probability to datasets\n",
    "train_combined.loc[:,\"score_t1\"] = scorecard_t1.score(train_combined)\n",
    "test_combined.loc[:,\"score_t1\"] = scorecard_t1.score(test_combined)\n",
    "val_combined.loc[:,\"score_t1\"] = scorecard_t1.score(val_combined)\n",
    "\n",
    "train_combined.loc[:,\"score_t2\"] = scorecard_t2.score(train_combined)\n",
    "test_combined.loc[:,\"score_t2\"] = scorecard_t2.score(test_combined)\n",
    "val_combined.loc[:,\"score_t2\"] = scorecard_t2.score(val_combined)"
   ]
  },
  {
   "cell_type": "code",
   "execution_count": 17,
   "metadata": {},
   "outputs": [],
   "source": [
    "# Train - h1n1\n",
    "# Kolmogorov_Smirnov Plot\n",
    "plot_ks(train_combined['h1n1_vaccine'], train_combined.score_t1)\n",
    "# ROC-AUC plot\n",
    "plot_auc_roc(train_combined['h1n1_vaccine'], train_combined.score_t1)\n",
    "plt.savefig('proc_log_train_h1n1.jpg')\n",
    "plt.close() \n",
    "\n",
    "# Test - h1n1\n",
    "# Kolmogorov_Smirnov Plot\n",
    "plot_ks(test_combined['h1n1_vaccine'], test_combined.score_t1)\n",
    "# ROC-AUC plot\n",
    "plot_auc_roc(test_combined['h1n1_vaccine'], test_combined.score_t1)\n",
    "plt.savefig('proc_log_test_h1n1.jpg')\n",
    "plt.close() "
   ]
  },
  {
   "cell_type": "markdown",
   "metadata": {},
   "source": [
    "**Train:** ![](proc_log_train_h1n1.jpg) **Test:** ![](proc_log_test_h1n1.jpg)"
   ]
  },
  {
   "cell_type": "code",
   "execution_count": 18,
   "metadata": {},
   "outputs": [],
   "source": [
    "# Train - h1n1\n",
    "# Kolmogorov_Smirnov Plot\n",
    "plot_ks(train_combined['seasonal_vaccine'], train_combined.score_t2)\n",
    "# ROC-AUC plot\n",
    "plot_auc_roc(train_combined['seasonal_vaccine'], train_combined.score_t2)\n",
    "plt.savefig('proc_log_train_seasonal_vaccine.jpg')\n",
    "plt.close() \n",
    "\n",
    "# Test - h1n1\n",
    "# Kolmogorov_Smirnov Plot\n",
    "plot_ks(test_combined['seasonal_vaccine'], test_combined.score_t2)\n",
    "# ROC-AUC plot\n",
    "plot_auc_roc(test_combined['seasonal_vaccine'], test_combined.score_t2)\n",
    "plt.savefig('proc_log_test_seasonal_vaccine.jpg')\n",
    "plt.close() "
   ]
  },
  {
   "cell_type": "markdown",
   "metadata": {},
   "source": [
    "**Train:** ![](proc_log_train_seasonal_vaccine.jpg) **Test:** ![](proc_log_test_seasonal_vaccine.jpg)"
   ]
  },
  {
   "cell_type": "markdown",
   "metadata": {},
   "source": [
    "# and now for something completely different"
   ]
  },
  {
   "cell_type": "markdown",
   "metadata": {},
   "source": [
    "## 2) CatBoost - https://catboost.ai/\n",
    "Train, test & val samples have logistic regression output (score_t1, score_t2) which will be used in CatBoost"
   ]
  },
  {
   "cell_type": "code",
   "execution_count": 30,
   "metadata": {},
   "outputs": [],
   "source": [
    "skf = StratifiedKFold(n_splits=20,random_state=42,shuffle=True)\n",
    "cat = CatBoostClassifier(iterations=50000,random_state=42,reg_lambda=30,eval_metric='AUC',custom_loss='Logloss')"
   ]
  },
  {
   "cell_type": "code",
   "execution_count": 31,
   "metadata": {},
   "outputs": [],
   "source": [
    "h1n1_scores = []\n",
    "h1n1_pred= np.zeros(len(val_combined))\n",
    "\n",
    "#Combining test & train since they are again split in kflods\n",
    "kfold_input = train_combined.append(test_combined)\n",
    "#Reordering of columns\n",
    "val_input = val_combined[kfold_input.drop(columns=['h1n1_vaccine','seasonal_vaccine']).columns.values].copy()\n",
    "\n",
    "X_a = kfold_input.drop(['h1n1_vaccine','seasonal_vaccine'],axis=1)\n",
    "y_a = kfold_input['h1n1_vaccine']\n",
    "test_A = val_input\n",
    "\n",
    "X_b = kfold_input.drop(['h1n1_vaccine','seasonal_vaccine'],axis=1)\n",
    "y_b = kfold_input['seasonal_vaccine']\n",
    "test_B = val_input\n",
    "\n",
    "# Defining categorical variables\n",
    "categorical_A = np.where(X_a.dtypes == object)[0]\n",
    "categorical_B = np.where(X_b.dtypes == object)[0]"
   ]
  },
  {
   "cell_type": "code",
   "execution_count": null,
   "metadata": {},
   "outputs": [],
   "source": [
    "for fold, (train_index,test_index) in enumerate(skf.split(X_a,y_a)):\n",
    "    print(f'====================================== FOLD {fold} ======================================================')\n",
    "    X_train,X_test = X_a.iloc[train_index],X_a.iloc[test_index]\n",
    "    y_train,y_test = y_a.iloc[train_index],y_a.iloc[test_index]\n",
    "    cat.fit(X_train,y_train,early_stopping_rounds=500,eval_set=[(X_train,y_train),(X_test,y_test)],use_best_model=True,cat_features=categorical_A, metric_period=500)\n",
    "    h1n1_scores.append(roc_auc_score(y_test,cat.predict_proba(X_test)[:,1]))\n",
    "    h1n1_pred +=cat.predict_proba(test_A)[:,1]"
   ]
  },
  {
   "cell_type": "code",
   "execution_count": 39,
   "metadata": {},
   "outputs": [
    {
     "data": {
      "text/plain": [
       "0.8734776095925477"
      ]
     },
     "execution_count": 39,
     "metadata": {},
     "output_type": "execute_result"
    }
   ],
   "source": [
    "# AUC for first target\n",
    "np.mean(h1n1_scores)"
   ]
  },
  {
   "cell_type": "code",
   "execution_count": 40,
   "metadata": {},
   "outputs": [],
   "source": [
    "# reseting cat and skf for new target\n",
    "skf = StratifiedKFold(n_splits=20,random_state=42,shuffle=True)\n",
    "cat = CatBoostClassifier(iterations=50000,random_state=42,reg_lambda=30,eval_metric='AUC',custom_loss='Logloss')"
   ]
  },
  {
   "cell_type": "code",
   "execution_count": 41,
   "metadata": {},
   "outputs": [],
   "source": [
    "season_scores = []\n",
    "season_pred= np.zeros(len(val_combined))"
   ]
  },
  {
   "cell_type": "code",
   "execution_count": 42,
   "metadata": {},
   "outputs": [
    {
     "name": "stdout",
     "output_type": "stream",
     "text": [
      "====================================== FOLD 0 ======================================================\n"
     ]
    },
    {
     "name": "stderr",
     "output_type": "stream",
     "text": [
      "Warning: Overfitting detector is active, thus evaluation metric is calculated on every iteration. 'metric_period' is ignored for evaluation metric.\n"
     ]
    },
    {
     "name": "stdout",
     "output_type": "stream",
     "text": [
      "0:\ttest: 0.8210236\ttest1: 0.8149651\tbest: 0.8149651 (0)\ttotal: 140ms\tremaining: 1h 56m 54s\n",
      "500:\ttest: 0.8753508\ttest1: 0.8607163\tbest: 0.8607704 (495)\ttotal: 38s\tremaining: 1h 2m 38s\n",
      "1000:\ttest: 0.8835315\ttest1: 0.8618692\tbest: 0.8619502 (963)\ttotal: 1m 14s\tremaining: 1h 23s\n",
      "1500:\ttest: 0.8900258\ttest1: 0.8623758\tbest: 0.8624884 (1453)\ttotal: 1m 50s\tremaining: 59m 25s\n",
      "2000:\ttest: 0.8959003\ttest1: 0.8628487\tbest: 0.8628915 (1993)\ttotal: 2m 27s\tremaining: 58m 59s\n",
      "2500:\ttest: 0.9013143\ttest1: 0.8629748\tbest: 0.8631707 (2478)\ttotal: 3m 5s\tremaining: 58m 38s\n",
      "3000:\ttest: 0.9064170\ttest1: 0.8626821\tbest: 0.8632720 (2596)\ttotal: 3m 55s\tremaining: 1h 1m 21s\n",
      "Stopped by overfitting detector  (500 iterations wait)\n",
      "\n",
      "bestTest = 0.8632719969\n",
      "bestIteration = 2596\n",
      "\n",
      "Shrink model to first 2597 iterations.\n",
      "====================================== FOLD 1 ======================================================\n"
     ]
    },
    {
     "name": "stderr",
     "output_type": "stream",
     "text": [
      "Warning: Overfitting detector is active, thus evaluation metric is calculated on every iteration. 'metric_period' is ignored for evaluation metric.\n"
     ]
    },
    {
     "name": "stdout",
     "output_type": "stream",
     "text": [
      "0:\ttest: 0.8230835\ttest1: 0.7975830\tbest: 0.7975830 (0)\ttotal: 96.1ms\tremaining: 1h 20m 3s\n",
      "500:\ttest: 0.8788366\ttest1: 0.8421195\tbest: 0.8421690 (484)\ttotal: 51.8s\tremaining: 1h 25m 19s\n",
      "1000:\ttest: 0.8872158\ttest1: 0.8435155\tbest: 0.8435291 (995)\ttotal: 1m 48s\tremaining: 1h 28m 6s\n",
      "1500:\ttest: 0.8940207\ttest1: 0.8439073\tbest: 0.8442383 (1378)\ttotal: 2m 42s\tremaining: 1h 27m 15s\n",
      "2000:\ttest: 0.8997816\ttest1: 0.8439299\tbest: 0.8443081 (1836)\ttotal: 3m 25s\tremaining: 1h 22m 1s\n",
      "2500:\ttest: 0.9058238\ttest1: 0.8441550\tbest: 0.8443779 (2155)\ttotal: 4m 9s\tremaining: 1h 19m 5s\n",
      "Stopped by overfitting detector  (500 iterations wait)\n",
      "\n",
      "bestTest = 0.8443779441\n",
      "bestIteration = 2155\n",
      "\n",
      "Shrink model to first 2156 iterations.\n",
      "====================================== FOLD 2 ======================================================\n"
     ]
    },
    {
     "name": "stderr",
     "output_type": "stream",
     "text": [
      "Warning: Overfitting detector is active, thus evaluation metric is calculated on every iteration. 'metric_period' is ignored for evaluation metric.\n"
     ]
    },
    {
     "name": "stdout",
     "output_type": "stream",
     "text": [
      "0:\ttest: 0.8204234\ttest1: 0.8284167\tbest: 0.8284167 (0)\ttotal: 87.7ms\tremaining: 1h 13m 6s\n",
      "500:\ttest: 0.8767858\ttest1: 0.8693088\tbest: 0.8694529 (420)\ttotal: 39.5s\tremaining: 1h 5m\n",
      "1000:\ttest: 0.8855202\ttest1: 0.8702478\tbest: 0.8704234 (844)\ttotal: 1m 19s\tremaining: 1h 4m 56s\n",
      "Stopped by overfitting detector  (500 iterations wait)\n",
      "\n",
      "bestTest = 0.8704234105\n",
      "bestIteration = 844\n",
      "\n",
      "Shrink model to first 845 iterations.\n",
      "====================================== FOLD 3 ======================================================\n"
     ]
    },
    {
     "name": "stderr",
     "output_type": "stream",
     "text": [
      "Warning: Overfitting detector is active, thus evaluation metric is calculated on every iteration. 'metric_period' is ignored for evaluation metric.\n"
     ]
    },
    {
     "name": "stdout",
     "output_type": "stream",
     "text": [
      "0:\ttest: 0.8221704\ttest1: 0.8145462\tbest: 0.8145462 (0)\ttotal: 71.3ms\tremaining: 59m 25s\n",
      "500:\ttest: 0.8765635\ttest1: 0.8682955\tbest: 0.8683271 (481)\ttotal: 37.7s\tremaining: 1h 2m 4s\n",
      "1000:\ttest: 0.8834827\ttest1: 0.8687301\tbest: 0.8687887 (586)\ttotal: 1m 12s\tremaining: 59m 18s\n",
      "Stopped by overfitting detector  (500 iterations wait)\n",
      "\n",
      "bestTest = 0.868788673\n",
      "bestIteration = 586\n",
      "\n",
      "Shrink model to first 587 iterations.\n",
      "====================================== FOLD 4 ======================================================\n"
     ]
    },
    {
     "name": "stderr",
     "output_type": "stream",
     "text": [
      "Warning: Overfitting detector is active, thus evaluation metric is calculated on every iteration. 'metric_period' is ignored for evaluation metric.\n"
     ]
    },
    {
     "name": "stdout",
     "output_type": "stream",
     "text": [
      "0:\ttest: 0.8210563\ttest1: 0.8348881\tbest: 0.8348881 (0)\ttotal: 76.8ms\tremaining: 1h 4m 1s\n",
      "500:\ttest: 0.8780540\ttest1: 0.8652400\tbest: 0.8653863 (336)\ttotal: 35.9s\tremaining: 59m 2s\n",
      "Stopped by overfitting detector  (500 iterations wait)\n",
      "\n",
      "bestTest = 0.8653863475\n",
      "bestIteration = 336\n",
      "\n",
      "Shrink model to first 337 iterations.\n",
      "====================================== FOLD 5 ======================================================\n"
     ]
    },
    {
     "name": "stderr",
     "output_type": "stream",
     "text": [
      "Warning: Overfitting detector is active, thus evaluation metric is calculated on every iteration. 'metric_period' is ignored for evaluation metric.\n"
     ]
    },
    {
     "name": "stdout",
     "output_type": "stream",
     "text": [
      "0:\ttest: 0.8209372\ttest1: 0.8189145\tbest: 0.8189145 (0)\ttotal: 79ms\tremaining: 1h 5m 48s\n",
      "500:\ttest: 0.8767193\ttest1: 0.8567195\tbest: 0.8567195 (500)\ttotal: 36.2s\tremaining: 59m 40s\n",
      "1000:\ttest: 0.8859173\ttest1: 0.8578319\tbest: 0.8578521 (955)\ttotal: 1m 12s\tremaining: 59m\n",
      "1500:\ttest: 0.8933735\ttest1: 0.8581021\tbest: 0.8583363 (1381)\ttotal: 1m 48s\tremaining: 58m 39s\n",
      "Stopped by overfitting detector  (500 iterations wait)\n",
      "\n",
      "bestTest = 0.8583362605\n",
      "bestIteration = 1381\n",
      "\n",
      "Shrink model to first 1382 iterations.\n",
      "====================================== FOLD 6 ======================================================\n"
     ]
    },
    {
     "name": "stderr",
     "output_type": "stream",
     "text": [
      "Warning: Overfitting detector is active, thus evaluation metric is calculated on every iteration. 'metric_period' is ignored for evaluation metric.\n"
     ]
    },
    {
     "name": "stdout",
     "output_type": "stream",
     "text": [
      "0:\ttest: 0.8256062\ttest1: 0.8295370\tbest: 0.8295370 (0)\ttotal: 68.3ms\tremaining: 56m 57s\n",
      "500:\ttest: 0.8762988\ttest1: 0.8705900\tbest: 0.8706441 (496)\ttotal: 37.6s\tremaining: 1h 1m 56s\n",
      "1000:\ttest: 0.8839222\ttest1: 0.8709751\tbest: 0.8716686 (805)\ttotal: 1m 15s\tremaining: 1h 1m 22s\n",
      "Stopped by overfitting detector  (500 iterations wait)\n",
      "\n",
      "bestTest = 0.8716686031\n",
      "bestIteration = 805\n",
      "\n",
      "Shrink model to first 806 iterations.\n",
      "====================================== FOLD 7 ======================================================\n"
     ]
    },
    {
     "name": "stderr",
     "output_type": "stream",
     "text": [
      "Warning: Overfitting detector is active, thus evaluation metric is calculated on every iteration. 'metric_period' is ignored for evaluation metric.\n"
     ]
    },
    {
     "name": "stdout",
     "output_type": "stream",
     "text": [
      "0:\ttest: 0.8225253\ttest1: 0.8416072\tbest: 0.8416072 (0)\ttotal: 74.8ms\tremaining: 1h 2m 18s\n",
      "500:\ttest: 0.8748067\ttest1: 0.8854913\tbest: 0.8854936 (499)\ttotal: 35.4s\tremaining: 58m 15s\n",
      "1000:\ttest: 0.8827471\ttest1: 0.8855229\tbest: 0.8856649 (912)\ttotal: 1m 11s\tremaining: 58m 7s\n",
      "Stopped by overfitting detector  (500 iterations wait)\n",
      "\n",
      "bestTest = 0.8856649364\n",
      "bestIteration = 912\n",
      "\n",
      "Shrink model to first 913 iterations.\n",
      "====================================== FOLD 8 ======================================================\n"
     ]
    },
    {
     "name": "stderr",
     "output_type": "stream",
     "text": [
      "Warning: Overfitting detector is active, thus evaluation metric is calculated on every iteration. 'metric_period' is ignored for evaluation metric.\n"
     ]
    },
    {
     "name": "stdout",
     "output_type": "stream",
     "text": [
      "0:\ttest: 0.8235997\ttest1: 0.8256044\tbest: 0.8256044 (0)\ttotal: 68.2ms\tremaining: 56m 47s\n",
      "500:\ttest: 0.8761501\ttest1: 0.8590598\tbest: 0.8590598 (499)\ttotal: 34.6s\tremaining: 57m 2s\n",
      "1000:\ttest: 0.8841995\ttest1: 0.8601264\tbest: 0.8601264 (1000)\ttotal: 1m 11s\tremaining: 58m 23s\n",
      "1500:\ttest: 0.8910813\ttest1: 0.8605954\tbest: 0.8607735 (1423)\ttotal: 1m 48s\tremaining: 58m 33s\n",
      "2000:\ttest: 0.8977549\ttest1: 0.8608457\tbest: 0.8609020 (1987)\ttotal: 2m 24s\tremaining: 57m 57s\n",
      "2500:\ttest: 0.9036507\ttest1: 0.8605367\tbest: 0.8610351 (2078)\ttotal: 3m\tremaining: 57m 15s\n",
      "Stopped by overfitting detector  (500 iterations wait)\n",
      "\n",
      "bestTest = 0.8610350721\n",
      "bestIteration = 2078\n",
      "\n",
      "Shrink model to first 2079 iterations.\n",
      "====================================== FOLD 9 ======================================================\n"
     ]
    },
    {
     "name": "stderr",
     "output_type": "stream",
     "text": [
      "Warning: Overfitting detector is active, thus evaluation metric is calculated on every iteration. 'metric_period' is ignored for evaluation metric.\n"
     ]
    },
    {
     "name": "stdout",
     "output_type": "stream",
     "text": [
      "0:\ttest: 0.8233279\ttest1: 0.8273711\tbest: 0.8273711 (0)\ttotal: 71.8ms\tremaining: 59m 49s\n",
      "500:\ttest: 0.8748159\ttest1: 0.8705619\tbest: 0.8705619 (500)\ttotal: 34s\tremaining: 56m 2s\n",
      "1000:\ttest: 0.8847113\ttest1: 0.8711278\tbest: 0.8711774 (988)\ttotal: 1m 10s\tremaining: 57m 14s\n",
      "1500:\ttest: 0.8929927\ttest1: 0.8718922\tbest: 0.8721132 (1406)\ttotal: 1m 46s\tremaining: 57m 26s\n",
      "2000:\ttest: 0.8999244\ttest1: 0.8724154\tbest: 0.8724605 (1962)\ttotal: 2m 22s\tremaining: 56m 51s\n",
      "2500:\ttest: 0.9056997\ttest1: 0.8722868\tbest: 0.8725822 (2174)\ttotal: 2m 58s\tremaining: 56m 36s\n",
      "Stopped by overfitting detector  (500 iterations wait)\n",
      "\n",
      "bestTest = 0.8725822236\n",
      "bestIteration = 2174\n",
      "\n",
      "Shrink model to first 2175 iterations.\n",
      "====================================== FOLD 10 ======================================================\n"
     ]
    },
    {
     "name": "stderr",
     "output_type": "stream",
     "text": [
      "Warning: Overfitting detector is active, thus evaluation metric is calculated on every iteration. 'metric_period' is ignored for evaluation metric.\n"
     ]
    },
    {
     "name": "stdout",
     "output_type": "stream",
     "text": [
      "0:\ttest: 0.8238729\ttest1: 0.8112759\tbest: 0.8112759 (0)\ttotal: 78.2ms\tremaining: 1h 5m 8s\n",
      "500:\ttest: 0.8771645\ttest1: 0.8574904\tbest: 0.8574994 (493)\ttotal: 35.2s\tremaining: 57m 56s\n",
      "1000:\ttest: 0.8860356\ttest1: 0.8578918\tbest: 0.8580812 (773)\ttotal: 1m 11s\tremaining: 58m 6s\n",
      "1500:\ttest: 0.8931455\ttest1: 0.8580789\tbest: 0.8583676 (1422)\ttotal: 1m 48s\tremaining: 58m 28s\n",
      "Stopped by overfitting detector  (500 iterations wait)\n",
      "\n",
      "bestTest = 0.8583675697\n",
      "bestIteration = 1422\n",
      "\n",
      "Shrink model to first 1423 iterations.\n",
      "====================================== FOLD 11 ======================================================\n"
     ]
    },
    {
     "name": "stderr",
     "output_type": "stream",
     "text": [
      "Warning: Overfitting detector is active, thus evaluation metric is calculated on every iteration. 'metric_period' is ignored for evaluation metric.\n"
     ]
    },
    {
     "name": "stdout",
     "output_type": "stream",
     "text": [
      "0:\ttest: 0.8236991\ttest1: 0.8220181\tbest: 0.8220181 (0)\ttotal: 71.1ms\tremaining: 59m 12s\n",
      "500:\ttest: 0.8753962\ttest1: 0.8682100\tbest: 0.8682100 (499)\ttotal: 35.2s\tremaining: 57m 56s\n",
      "1000:\ttest: 0.8837616\ttest1: 0.8695134\tbest: 0.8697749 (901)\ttotal: 1m 10s\tremaining: 57m 52s\n",
      "1500:\ttest: 0.8913168\ttest1: 0.8697817\tbest: 0.8701830 (1371)\ttotal: 1m 48s\tremaining: 58m 12s\n",
      "2000:\ttest: 0.8971656\ttest1: 0.8702327\tbest: 0.8703454 (1972)\ttotal: 2m 25s\tremaining: 57m 58s\n",
      "2500:\ttest: 0.9023498\ttest1: 0.8700455\tbest: 0.8703882 (2197)\ttotal: 3m 1s\tremaining: 57m 36s\n",
      "Stopped by overfitting detector  (500 iterations wait)\n",
      "\n",
      "bestTest = 0.8703882422\n",
      "bestIteration = 2197\n",
      "\n",
      "Shrink model to first 2198 iterations.\n",
      "====================================== FOLD 12 ======================================================\n"
     ]
    },
    {
     "name": "stderr",
     "output_type": "stream",
     "text": [
      "Warning: Overfitting detector is active, thus evaluation metric is calculated on every iteration. 'metric_period' is ignored for evaluation metric.\n"
     ]
    },
    {
     "name": "stdout",
     "output_type": "stream",
     "text": [
      "0:\ttest: 0.8244084\ttest1: 0.8091992\tbest: 0.8091992 (0)\ttotal: 73.3ms\tremaining: 1h 1m 5s\n",
      "500:\ttest: 0.8771939\ttest1: 0.8458102\tbest: 0.8458102 (499)\ttotal: 35.4s\tremaining: 58m 21s\n",
      "1000:\ttest: 0.8858819\ttest1: 0.8473593\tbest: 0.8474022 (996)\ttotal: 1m 11s\tremaining: 58m 22s\n",
      "1500:\ttest: 0.8929306\ttest1: 0.8485927\tbest: 0.8486333 (1478)\ttotal: 1m 47s\tremaining: 58m 2s\n",
      "2000:\ttest: 0.8988762\ttest1: 0.8487100\tbest: 0.8489580 (1923)\ttotal: 2m 24s\tremaining: 57m 43s\n",
      "Stopped by overfitting detector  (500 iterations wait)\n",
      "\n",
      "bestTest = 0.848958028\n",
      "bestIteration = 1923\n",
      "\n",
      "Shrink model to first 1924 iterations.\n",
      "====================================== FOLD 13 ======================================================\n"
     ]
    },
    {
     "name": "stderr",
     "output_type": "stream",
     "text": [
      "Warning: Overfitting detector is active, thus evaluation metric is calculated on every iteration. 'metric_period' is ignored for evaluation metric.\n"
     ]
    },
    {
     "name": "stdout",
     "output_type": "stream",
     "text": [
      "0:\ttest: 0.8237863\ttest1: 0.8138983\tbest: 0.8138983 (0)\ttotal: 86.5ms\tremaining: 1h 12m 2s\n",
      "500:\ttest: 0.8760664\ttest1: 0.8555512\tbest: 0.8555512 (499)\ttotal: 34.8s\tremaining: 57m 13s\n",
      "1000:\ttest: 0.8849714\ttest1: 0.8574273\tbest: 0.8574273 (1000)\ttotal: 1m 10s\tremaining: 57m 23s\n",
      "1500:\ttest: 0.8923634\ttest1: 0.8584984\tbest: 0.8585367 (1457)\ttotal: 1m 46s\tremaining: 57m 15s\n",
      "2000:\ttest: 0.8985275\ttest1: 0.8584758\tbest: 0.8588930 (1837)\ttotal: 2m 22s\tremaining: 56m 52s\n",
      "Stopped by overfitting detector  (500 iterations wait)\n",
      "\n",
      "bestTest = 0.8588929527\n",
      "bestIteration = 1837\n",
      "\n",
      "Shrink model to first 1838 iterations.\n",
      "====================================== FOLD 14 ======================================================\n"
     ]
    },
    {
     "name": "stderr",
     "output_type": "stream",
     "text": [
      "Warning: Overfitting detector is active, thus evaluation metric is calculated on every iteration. 'metric_period' is ignored for evaluation metric.\n"
     ]
    },
    {
     "name": "stdout",
     "output_type": "stream",
     "text": [
      "0:\ttest: 0.8242325\ttest1: 0.8096017\tbest: 0.8096017 (0)\ttotal: 78.1ms\tremaining: 1h 5m 3s\n",
      "500:\ttest: 0.8780607\ttest1: 0.8468678\tbest: 0.8469625 (477)\ttotal: 34.6s\tremaining: 57m 3s\n",
      "1000:\ttest: 0.8854467\ttest1: 0.8479005\tbest: 0.8479456 (992)\ttotal: 1m 8s\tremaining: 55m 43s\n",
      "1500:\ttest: 0.8913781\ttest1: 0.8482838\tbest: 0.8483808 (1436)\ttotal: 1m 42s\tremaining: 55m 9s\n",
      "2000:\ttest: 0.8972895\ttest1: 0.8484169\tbest: 0.8486559 (1941)\ttotal: 2m 17s\tremaining: 54m 47s\n",
      "2500:\ttest: 0.9023605\ttest1: 0.8485138\tbest: 0.8487889 (2273)\ttotal: 2m 52s\tremaining: 54m 28s\n",
      "Stopped by overfitting detector  (500 iterations wait)\n",
      "\n",
      "bestTest = 0.8487889133\n",
      "bestIteration = 2273\n",
      "\n",
      "Shrink model to first 2274 iterations.\n",
      "====================================== FOLD 15 ======================================================\n"
     ]
    },
    {
     "name": "stderr",
     "output_type": "stream",
     "text": [
      "Warning: Overfitting detector is active, thus evaluation metric is calculated on every iteration. 'metric_period' is ignored for evaluation metric.\n"
     ]
    },
    {
     "name": "stdout",
     "output_type": "stream",
     "text": [
      "0:\ttest: 0.8231600\ttest1: 0.8268414\tbest: 0.8268414 (0)\ttotal: 69.5ms\tremaining: 57m 53s\n",
      "500:\ttest: 0.8755739\ttest1: 0.8642607\tbest: 0.8643058 (483)\ttotal: 33.2s\tremaining: 54m 42s\n",
      "1000:\ttest: 0.8861269\ttest1: 0.8662521\tbest: 0.8662634 (999)\ttotal: 1m 7s\tremaining: 54m 57s\n",
      "1500:\ttest: 0.8941107\ttest1: 0.8661980\tbest: 0.8667235 (1183)\ttotal: 1m 42s\tremaining: 55m 15s\n",
      "Stopped by overfitting detector  (500 iterations wait)\n",
      "\n",
      "bestTest = 0.866723501\n",
      "bestIteration = 1183\n",
      "\n",
      "Shrink model to first 1184 iterations.\n",
      "====================================== FOLD 16 ======================================================\n"
     ]
    },
    {
     "name": "stderr",
     "output_type": "stream",
     "text": [
      "Warning: Overfitting detector is active, thus evaluation metric is calculated on every iteration. 'metric_period' is ignored for evaluation metric.\n"
     ]
    },
    {
     "name": "stdout",
     "output_type": "stream",
     "text": [
      "0:\ttest: 0.8230191\ttest1: 0.8336096\tbest: 0.8336096 (0)\ttotal: 70.8ms\tremaining: 59m 1s\n",
      "500:\ttest: 0.8746623\ttest1: 0.8773709\tbest: 0.8773709 (500)\ttotal: 33.7s\tremaining: 55m 28s\n",
      "1000:\ttest: 0.8832619\ttest1: 0.8788346\tbest: 0.8790444 (975)\ttotal: 1m 7s\tremaining: 55m 2s\n",
      "1500:\ttest: 0.8906769\ttest1: 0.8789136\tbest: 0.8791053 (1266)\ttotal: 1m 42s\tremaining: 55m 9s\n",
      "2000:\ttest: 0.8973601\ttest1: 0.8788820\tbest: 0.8792271 (1863)\ttotal: 2m 17s\tremaining: 54m 51s\n",
      "Stopped by overfitting detector  (500 iterations wait)\n",
      "\n",
      "bestTest = 0.8792270531\n",
      "bestIteration = 1863\n",
      "\n",
      "Shrink model to first 1864 iterations.\n",
      "====================================== FOLD 17 ======================================================\n"
     ]
    },
    {
     "name": "stderr",
     "output_type": "stream",
     "text": [
      "Warning: Overfitting detector is active, thus evaluation metric is calculated on every iteration. 'metric_period' is ignored for evaluation metric.\n"
     ]
    },
    {
     "name": "stdout",
     "output_type": "stream",
     "text": [
      "0:\ttest: 0.8245574\ttest1: 0.8054597\tbest: 0.8054597 (0)\ttotal: 67.6ms\tremaining: 56m 19s\n",
      "500:\ttest: 0.8764897\ttest1: 0.8570572\tbest: 0.8571023 (496)\ttotal: 33.6s\tremaining: 55m 16s\n",
      "1000:\ttest: 0.8842480\ttest1: 0.8578307\tbest: 0.8579052 (902)\ttotal: 1m 7s\tremaining: 55m 1s\n",
      "1500:\ttest: 0.8907306\ttest1: 0.8585367\tbest: 0.8585457 (1485)\ttotal: 1m 41s\tremaining: 54m 51s\n",
      "2000:\ttest: 0.8972344\ttest1: 0.8588005\tbest: 0.8588434 (1988)\ttotal: 2m 17s\tremaining: 54m 52s\n",
      "2500:\ttest: 0.9031763\ttest1: 0.8593012\tbest: 0.8593869 (2485)\ttotal: 2m 52s\tremaining: 54m 37s\n",
      "3000:\ttest: 0.9089774\ttest1: 0.8594117\tbest: 0.8596733 (2617)\ttotal: 3m 27s\tremaining: 54m 10s\n",
      "Stopped by overfitting detector  (500 iterations wait)\n",
      "\n",
      "bestTest = 0.8596733379\n",
      "bestIteration = 2617\n",
      "\n",
      "Shrink model to first 2618 iterations.\n",
      "====================================== FOLD 18 ======================================================\n"
     ]
    },
    {
     "name": "stderr",
     "output_type": "stream",
     "text": [
      "Warning: Overfitting detector is active, thus evaluation metric is calculated on every iteration. 'metric_period' is ignored for evaluation metric.\n"
     ]
    },
    {
     "name": "stdout",
     "output_type": "stream",
     "text": [
      "0:\ttest: 0.8231457\ttest1: 0.8308367\tbest: 0.8308367 (0)\ttotal: 64.3ms\tremaining: 53m 34s\n",
      "500:\ttest: 0.8753678\ttest1: 0.8687398\tbest: 0.8687420 (498)\ttotal: 33.2s\tremaining: 54m 38s\n",
      "1000:\ttest: 0.8842110\ttest1: 0.8702238\tbest: 0.8703185 (948)\ttotal: 1m 6s\tremaining: 53m 56s\n",
      "1500:\ttest: 0.8914171\ttest1: 0.8707538\tbest: 0.8708665 (1460)\ttotal: 1m 40s\tremaining: 54m\n",
      "2000:\ttest: 0.8974600\ttest1: 0.8709139\tbest: 0.8710650 (1804)\ttotal: 2m 16s\tremaining: 54m 41s\n",
      "2500:\ttest: 0.9033517\ttest1: 0.8706252\tbest: 0.8711462 (2031)\ttotal: 2m 54s\tremaining: 55m 5s\n",
      "Stopped by overfitting detector  (500 iterations wait)\n",
      "\n",
      "bestTest = 0.8711462041\n",
      "bestIteration = 2031\n",
      "\n",
      "Shrink model to first 2032 iterations.\n",
      "====================================== FOLD 19 ======================================================\n"
     ]
    },
    {
     "name": "stderr",
     "output_type": "stream",
     "text": [
      "Warning: Overfitting detector is active, thus evaluation metric is calculated on every iteration. 'metric_period' is ignored for evaluation metric.\n"
     ]
    },
    {
     "name": "stdout",
     "output_type": "stream",
     "text": [
      "0:\ttest: 0.8234185\ttest1: 0.8246695\tbest: 0.8246695 (0)\ttotal: 75.4ms\tremaining: 1h 2m 49s\n",
      "500:\ttest: 0.8754124\ttest1: 0.8774927\tbest: 0.8774927 (499)\ttotal: 35.5s\tremaining: 58m 23s\n",
      "1000:\ttest: 0.8834808\ttest1: 0.8787534\tbest: 0.8788888 (931)\ttotal: 1m 11s\tremaining: 58m 17s\n",
      "1500:\ttest: 0.8899432\ttest1: 0.8795067\tbest: 0.8796601 (1478)\ttotal: 1m 47s\tremaining: 57m 59s\n",
      "2000:\ttest: 0.8960333\ttest1: 0.8801562\tbest: 0.8803006 (1948)\ttotal: 2m 28s\tremaining: 59m 10s\n",
      "2500:\ttest: 0.9017671\ttest1: 0.8802420\tbest: 0.8806208 (2217)\ttotal: 3m 6s\tremaining: 58m 57s\n",
      "Stopped by overfitting detector  (500 iterations wait)\n",
      "\n",
      "bestTest = 0.8806208474\n",
      "bestIteration = 2217\n",
      "\n",
      "Shrink model to first 2218 iterations.\n"
     ]
    }
   ],
   "source": [
    "for fold, (train_index,test_index) in enumerate(skf.split(X_b,y_b)):\n",
    "    print(f'====================================== FOLD {fold} ======================================================')\n",
    "    X_train,X_test = X_b.iloc[train_index],X_b.iloc[test_index]\n",
    "    y_train,y_test = y_b.iloc[train_index],y_b.iloc[test_index]\n",
    "    cat.fit(X_train,y_train,early_stopping_rounds=500,eval_set=[(X_train,y_train),(X_test,y_test)],use_best_model=True,cat_features=categorical_B, metric_period=500)\n",
    "    season_scores.append(roc_auc_score(y_test,cat.predict_proba(X_test)[:,1]))\n",
    "    season_pred +=cat.predict_proba(test_B)[:,1]"
   ]
  },
  {
   "cell_type": "code",
   "execution_count": 43,
   "metadata": {},
   "outputs": [
    {
     "data": {
      "text/plain": [
       "0.8652161058583807"
      ]
     },
     "execution_count": 43,
     "metadata": {},
     "output_type": "execute_result"
    }
   ],
   "source": [
    "# AUC for second target\n",
    "np.mean(season_scores)"
   ]
  },
  {
   "cell_type": "code",
   "execution_count": 44,
   "metadata": {},
   "outputs": [],
   "source": [
    "# Assign score and predicted probability to test dataset\n",
    "h1n1_vaccine = h1n1_pred/20\n",
    "seasonal_vaccine = season_pred/20"
   ]
  },
  {
   "cell_type": "code",
   "execution_count": 45,
   "metadata": {},
   "outputs": [],
   "source": [
    "output_scored = pd.DataFrame({'respondent_id': val.respondent_id, 'h1n1_vaccine': h1n1_vaccine, 'seasonal_vaccine': seasonal_vaccine})"
   ]
  },
  {
   "cell_type": "code",
   "execution_count": 46,
   "metadata": {},
   "outputs": [
    {
     "data": {
      "text/html": [
       "<div>\n",
       "<style scoped>\n",
       "    .dataframe tbody tr th:only-of-type {\n",
       "        vertical-align: middle;\n",
       "    }\n",
       "\n",
       "    .dataframe tbody tr th {\n",
       "        vertical-align: top;\n",
       "    }\n",
       "\n",
       "    .dataframe thead th {\n",
       "        text-align: right;\n",
       "    }\n",
       "</style>\n",
       "<table border=\"1\" class=\"dataframe\">\n",
       "  <thead>\n",
       "    <tr style=\"text-align: right;\">\n",
       "      <th></th>\n",
       "      <th>respondent_id</th>\n",
       "      <th>h1n1_vaccine</th>\n",
       "      <th>seasonal_vaccine</th>\n",
       "    </tr>\n",
       "  </thead>\n",
       "  <tbody>\n",
       "    <tr>\n",
       "      <th>count</th>\n",
       "      <td>26708.000000</td>\n",
       "      <td>26708.000000</td>\n",
       "      <td>26708.000000</td>\n",
       "    </tr>\n",
       "    <tr>\n",
       "      <th>mean</th>\n",
       "      <td>40060.500000</td>\n",
       "      <td>0.211979</td>\n",
       "      <td>0.444160</td>\n",
       "    </tr>\n",
       "    <tr>\n",
       "      <th>std</th>\n",
       "      <td>7710.079831</td>\n",
       "      <td>0.246988</td>\n",
       "      <td>0.313093</td>\n",
       "    </tr>\n",
       "    <tr>\n",
       "      <th>min</th>\n",
       "      <td>26707.000000</td>\n",
       "      <td>0.004524</td>\n",
       "      <td>0.007646</td>\n",
       "    </tr>\n",
       "    <tr>\n",
       "      <th>25%</th>\n",
       "      <td>33383.750000</td>\n",
       "      <td>0.041797</td>\n",
       "      <td>0.145510</td>\n",
       "    </tr>\n",
       "    <tr>\n",
       "      <th>50%</th>\n",
       "      <td>40060.500000</td>\n",
       "      <td>0.097399</td>\n",
       "      <td>0.394915</td>\n",
       "    </tr>\n",
       "    <tr>\n",
       "      <th>75%</th>\n",
       "      <td>46737.250000</td>\n",
       "      <td>0.287115</td>\n",
       "      <td>0.747610</td>\n",
       "    </tr>\n",
       "    <tr>\n",
       "      <th>max</th>\n",
       "      <td>53414.000000</td>\n",
       "      <td>0.981820</td>\n",
       "      <td>0.987686</td>\n",
       "    </tr>\n",
       "  </tbody>\n",
       "</table>\n",
       "</div>"
      ],
      "text/plain": [
       "       respondent_id  h1n1_vaccine  seasonal_vaccine\n",
       "count   26708.000000  26708.000000      26708.000000\n",
       "mean    40060.500000      0.211979          0.444160\n",
       "std      7710.079831      0.246988          0.313093\n",
       "min     26707.000000      0.004524          0.007646\n",
       "25%     33383.750000      0.041797          0.145510\n",
       "50%     40060.500000      0.097399          0.394915\n",
       "75%     46737.250000      0.287115          0.747610\n",
       "max     53414.000000      0.981820          0.987686"
      ]
     },
     "execution_count": 46,
     "metadata": {},
     "output_type": "execute_result"
    }
   ],
   "source": [
    "output_scored.describe()"
   ]
  },
  {
   "cell_type": "code",
   "execution_count": 47,
   "metadata": {},
   "outputs": [
    {
     "data": {
      "text/html": [
       "<div>\n",
       "<style scoped>\n",
       "    .dataframe tbody tr th:only-of-type {\n",
       "        vertical-align: middle;\n",
       "    }\n",
       "\n",
       "    .dataframe tbody tr th {\n",
       "        vertical-align: top;\n",
       "    }\n",
       "\n",
       "    .dataframe thead th {\n",
       "        text-align: right;\n",
       "    }\n",
       "</style>\n",
       "<table border=\"1\" class=\"dataframe\">\n",
       "  <thead>\n",
       "    <tr style=\"text-align: right;\">\n",
       "      <th></th>\n",
       "      <th>respondent_id</th>\n",
       "      <th>h1n1_vaccine</th>\n",
       "      <th>seasonal_vaccine</th>\n",
       "    </tr>\n",
       "  </thead>\n",
       "  <tbody>\n",
       "    <tr>\n",
       "      <th>respondent_id</th>\n",
       "      <td>1.000000</td>\n",
       "      <td>0.002688</td>\n",
       "      <td>0.000156</td>\n",
       "    </tr>\n",
       "    <tr>\n",
       "      <th>h1n1_vaccine</th>\n",
       "      <td>0.002688</td>\n",
       "      <td>1.000000</td>\n",
       "      <td>0.574622</td>\n",
       "    </tr>\n",
       "    <tr>\n",
       "      <th>seasonal_vaccine</th>\n",
       "      <td>0.000156</td>\n",
       "      <td>0.574622</td>\n",
       "      <td>1.000000</td>\n",
       "    </tr>\n",
       "  </tbody>\n",
       "</table>\n",
       "</div>"
      ],
      "text/plain": [
       "                  respondent_id  h1n1_vaccine  seasonal_vaccine\n",
       "respondent_id          1.000000      0.002688          0.000156\n",
       "h1n1_vaccine           0.002688      1.000000          0.574622\n",
       "seasonal_vaccine       0.000156      0.574622          1.000000"
      ]
     },
     "execution_count": 47,
     "metadata": {},
     "output_type": "execute_result"
    }
   ],
   "source": [
    "output_scored.corr()"
   ]
  },
  {
   "cell_type": "code",
   "execution_count": 48,
   "metadata": {},
   "outputs": [],
   "source": [
    "output_scored.to_csv(\"output_catboost_v2.csv\",index=False)"
   ]
  },
  {
   "cell_type": "markdown",
   "metadata": {},
   "source": [
    "## Testing CatBoost tuning with optuna"
   ]
  },
  {
   "cell_type": "code",
   "execution_count": 32,
   "metadata": {},
   "outputs": [],
   "source": [
    "train_dataset_A = Pool(data=X_a,\n",
    "                     label=y_a,\n",
    "                     cat_features = categorical_A)               "
   ]
  },
  {
   "cell_type": "code",
   "execution_count": 34,
   "metadata": {},
   "outputs": [],
   "source": [
    "def objective(trial):\n",
    "    param = {\n",
    "        'iterations':trial.suggest_categorical('iterations', [100,200,300,500,1000,1200,1500]),\n",
    "        'learning_rate':trial.suggest_float(\"learning_rate\", 0.001, 0.3),\n",
    "        'random_strength':trial.suggest_int(\"random_strength\", 1,10),\n",
    "        'bagging_temperature':trial.suggest_int(\"bagging_temperature\", 0,10),\n",
    "        'max_bin':trial.suggest_categorical('max_bin', [4,5,6,8,10,20,30]),\n",
    "        'grow_policy':trial.suggest_categorical('grow_policy', ['SymmetricTree', 'Depthwise', 'Lossguide']),\n",
    "        'min_data_in_leaf':trial.suggest_int(\"min_data_in_leaf\", 1,10),\n",
    "        'od_type' : \"Iter\",\n",
    "        'od_wait' : 100,\n",
    "        \"depth\": trial.suggest_int(\"max_depth\", 2,10),\n",
    "        \"l2_leaf_reg\": trial.suggest_loguniform(\"l2_leaf_reg\", 1e-8, 100),\n",
    "         'one_hot_max_size':trial.suggest_categorical('one_hot_max_size', [5,10,12,100,500,1024]),\n",
    "        'custom_metric' : ['AUC'],\n",
    "        \"loss_function\": \"Logloss\",\n",
    "        'auto_class_weights':trial.suggest_categorical('auto_class_weights', ['Balanced', 'SqrtBalanced']),\n",
    "        }\n",
    "\n",
    "    scores = cv(train_dataset_A,\n",
    "            param,\n",
    "            fold_count=5, \n",
    "            early_stopping_rounds=10,         \n",
    "            plot=False, verbose=False)\n",
    "\n",
    "    return scores['test-AUC-mean'].max()"
   ]
  },
  {
   "cell_type": "code",
   "execution_count": 36,
   "metadata": {},
   "outputs": [
    {
     "name": "stderr",
     "output_type": "stream",
     "text": [
      "\u001b[32m[I 2022-04-18 16:11:48,559]\u001b[0m A new study created in memory with name: no-name-dbdb4bc6-222f-46f5-a5cc-1b6432addea6\u001b[0m\n"
     ]
    },
    {
     "name": "stdout",
     "output_type": "stream",
     "text": [
      "Training on fold [0/5]\n",
      "\n",
      "bestTest = 0.4068766478\n",
      "bestIteration = 675\n",
      "\n",
      "Training on fold [1/5]\n",
      "\n",
      "bestTest = 0.426212928\n",
      "bestIteration = 522\n",
      "\n",
      "Training on fold [2/5]\n",
      "\n",
      "bestTest = 0.431274293\n",
      "bestIteration = 532\n",
      "\n",
      "Training on fold [3/5]\n",
      "\n",
      "bestTest = 0.4310591191\n",
      "bestIteration = 467\n",
      "\n",
      "Training on fold [4/5]\n"
     ]
    },
    {
     "name": "stderr",
     "output_type": "stream",
     "text": [
      "\u001b[32m[I 2022-04-18 16:12:05,650]\u001b[0m Trial 0 finished with value: 0.8672466586293155 and parameters: {'iterations': 1500, 'learning_rate': 0.029356482739949695, 'random_strength': 8, 'bagging_temperature': 10, 'max_bin': 6, 'grow_policy': 'SymmetricTree', 'min_data_in_leaf': 1, 'max_depth': 4, 'l2_leaf_reg': 0.001991194871120998, 'one_hot_max_size': 100, 'auto_class_weights': 'SqrtBalanced'}. Best is trial 0 with value: 0.8672466586293155.\u001b[0m\n"
     ]
    },
    {
     "name": "stdout",
     "output_type": "stream",
     "text": [
      "\n",
      "bestTest = 0.4217968707\n",
      "bestIteration = 345\n",
      "\n",
      "Training on fold [0/5]\n",
      "\n",
      "bestTest = 0.4098890198\n",
      "bestIteration = 155\n",
      "\n",
      "Training on fold [1/5]\n",
      "\n",
      "bestTest = 0.4281604806\n",
      "bestIteration = 158\n",
      "\n",
      "Training on fold [2/5]\n",
      "\n",
      "bestTest = 0.4304260887\n",
      "bestIteration = 114\n",
      "\n",
      "Training on fold [3/5]\n",
      "\n",
      "bestTest = 0.4296790334\n",
      "bestIteration = 118\n",
      "\n",
      "Training on fold [4/5]\n"
     ]
    },
    {
     "name": "stderr",
     "output_type": "stream",
     "text": [
      "\u001b[32m[I 2022-04-18 16:12:10,423]\u001b[0m Trial 1 finished with value: 0.8672804445097292 and parameters: {'iterations': 200, 'learning_rate': 0.1464067066361795, 'random_strength': 10, 'bagging_temperature': 3, 'max_bin': 10, 'grow_policy': 'Depthwise', 'min_data_in_leaf': 1, 'max_depth': 3, 'l2_leaf_reg': 0.028402775147703313, 'one_hot_max_size': 500, 'auto_class_weights': 'SqrtBalanced'}. Best is trial 1 with value: 0.8672804445097292.\u001b[0m\n"
     ]
    },
    {
     "name": "stdout",
     "output_type": "stream",
     "text": [
      "\n",
      "bestTest = 0.4137895192\n",
      "bestIteration = 111\n",
      "\n",
      "Training on fold [0/5]\n",
      "\n",
      "bestTest = 0.4096545095\n",
      "bestIteration = 85\n",
      "\n",
      "Training on fold [1/5]\n",
      "\n",
      "bestTest = 0.4254366023\n",
      "bestIteration = 68\n",
      "\n",
      "Training on fold [2/5]\n",
      "\n",
      "bestTest = 0.4310905944\n",
      "bestIteration = 60\n",
      "\n",
      "Training on fold [3/5]\n",
      "\n",
      "bestTest = 0.4294441756\n",
      "bestIteration = 50\n",
      "\n",
      "Training on fold [4/5]\n"
     ]
    },
    {
     "name": "stderr",
     "output_type": "stream",
     "text": [
      "\u001b[32m[I 2022-04-18 16:12:21,987]\u001b[0m Trial 2 finished with value: 0.8661650028937672 and parameters: {'iterations': 200, 'learning_rate': 0.27287829596201946, 'random_strength': 8, 'bagging_temperature': 8, 'max_bin': 10, 'grow_policy': 'SymmetricTree', 'min_data_in_leaf': 1, 'max_depth': 5, 'l2_leaf_reg': 0.027330135035255495, 'one_hot_max_size': 10, 'auto_class_weights': 'SqrtBalanced'}. Best is trial 1 with value: 0.8672804445097292.\u001b[0m\n"
     ]
    },
    {
     "name": "stdout",
     "output_type": "stream",
     "text": [
      "\n",
      "bestTest = 0.4150526663\n",
      "bestIteration = 63\n",
      "\n",
      "Training on fold [0/5]\n",
      "\n",
      "bestTest = 0.4099909609\n",
      "bestIteration = 577\n",
      "\n",
      "Training on fold [1/5]\n",
      "\n",
      "bestTest = 0.4272606113\n",
      "bestIteration = 386\n",
      "\n",
      "Training on fold [2/5]\n",
      "\n",
      "bestTest = 0.4346072047\n",
      "bestIteration = 333\n",
      "\n",
      "Training on fold [3/5]\n",
      "\n",
      "bestTest = 0.4305748292\n",
      "bestIteration = 575\n",
      "\n",
      "Training on fold [4/5]\n"
     ]
    },
    {
     "name": "stderr",
     "output_type": "stream",
     "text": [
      "\u001b[32m[I 2022-04-18 16:12:52,071]\u001b[0m Trial 3 finished with value: 0.8673197841507765 and parameters: {'iterations': 1200, 'learning_rate': 0.0603209284932487, 'random_strength': 3, 'bagging_temperature': 7, 'max_bin': 4, 'grow_policy': 'SymmetricTree', 'min_data_in_leaf': 2, 'max_depth': 2, 'l2_leaf_reg': 1.300471404766049e-07, 'one_hot_max_size': 10, 'auto_class_weights': 'SqrtBalanced'}. Best is trial 3 with value: 0.8673197841507765.\u001b[0m\n"
     ]
    },
    {
     "name": "stdout",
     "output_type": "stream",
     "text": [
      "\n",
      "bestTest = 0.4142502871\n",
      "bestIteration = 510\n",
      "\n",
      "Training on fold [0/5]\n",
      "\n",
      "bestTest = 0.4087947421\n",
      "bestIteration = 69\n",
      "\n",
      "Training on fold [1/5]\n",
      "\n",
      "bestTest = 0.4280484973\n",
      "bestIteration = 84\n",
      "\n",
      "Training on fold [2/5]\n",
      "\n",
      "bestTest = 0.434562572\n",
      "bestIteration = 69\n",
      "\n",
      "Training on fold [3/5]\n",
      "\n",
      "bestTest = 0.4332405498\n",
      "bestIteration = 58\n",
      "\n",
      "Training on fold [4/5]\n"
     ]
    },
    {
     "name": "stderr",
     "output_type": "stream",
     "text": [
      "\u001b[32m[I 2022-04-18 16:12:54,857]\u001b[0m Trial 4 finished with value: 0.8660714672325674 and parameters: {'iterations': 300, 'learning_rate': 0.22423670437233847, 'random_strength': 6, 'bagging_temperature': 2, 'max_bin': 30, 'grow_policy': 'SymmetricTree', 'min_data_in_leaf': 4, 'max_depth': 4, 'l2_leaf_reg': 0.00010293033487726667, 'one_hot_max_size': 500, 'auto_class_weights': 'SqrtBalanced'}. Best is trial 3 with value: 0.8673197841507765.\u001b[0m\n"
     ]
    },
    {
     "name": "stdout",
     "output_type": "stream",
     "text": [
      "\n",
      "bestTest = 0.4145071682\n",
      "bestIteration = 69\n",
      "\n",
      "Training on fold [0/5]\n",
      "\n",
      "bestTest = 0.4710178999\n",
      "bestIteration = 99\n",
      "\n",
      "Training on fold [1/5]\n",
      "\n",
      "bestTest = 0.4795527112\n",
      "bestIteration = 99\n",
      "\n",
      "Training on fold [2/5]\n",
      "\n",
      "bestTest = 0.4822684172\n",
      "bestIteration = 99\n",
      "\n",
      "Training on fold [3/5]\n",
      "\n",
      "bestTest = 0.4825458663\n",
      "bestIteration = 99\n",
      "\n",
      "Training on fold [4/5]\n"
     ]
    },
    {
     "name": "stderr",
     "output_type": "stream",
     "text": [
      "\u001b[32m[I 2022-04-18 16:12:58,205]\u001b[0m Trial 5 finished with value: 0.8567829510684252 and parameters: {'iterations': 100, 'learning_rate': 0.06628011038512191, 'random_strength': 4, 'bagging_temperature': 4, 'max_bin': 20, 'grow_policy': 'Lossguide', 'min_data_in_leaf': 3, 'max_depth': 2, 'l2_leaf_reg': 13.751833235431702, 'one_hot_max_size': 100, 'auto_class_weights': 'Balanced'}. Best is trial 3 with value: 0.8673197841507765.\u001b[0m\n"
     ]
    },
    {
     "name": "stdout",
     "output_type": "stream",
     "text": [
      "\n",
      "bestTest = 0.4691944216\n",
      "bestIteration = 99\n",
      "\n",
      "Training on fold [0/5]\n",
      "\n",
      "bestTest = 0.415679053\n",
      "bestIteration = 103\n",
      "\n",
      "Training on fold [1/5]\n",
      "\n",
      "bestTest = 0.4318979034\n",
      "bestIteration = 78\n",
      "\n",
      "Training on fold [2/5]\n",
      "\n",
      "bestTest = 0.4335034907\n",
      "bestIteration = 108\n",
      "\n",
      "Training on fold [3/5]\n",
      "\n",
      "bestTest = 0.4350534163\n",
      "bestIteration = 109\n",
      "\n",
      "Training on fold [4/5]\n"
     ]
    },
    {
     "name": "stderr",
     "output_type": "stream",
     "text": [
      "\u001b[32m[I 2022-04-18 16:13:35,759]\u001b[0m Trial 6 finished with value: 0.8643847226089525 and parameters: {'iterations': 1200, 'learning_rate': 0.09658215406978513, 'random_strength': 8, 'bagging_temperature': 2, 'max_bin': 30, 'grow_policy': 'Depthwise', 'min_data_in_leaf': 6, 'max_depth': 10, 'l2_leaf_reg': 2.6558249848041764, 'one_hot_max_size': 5, 'auto_class_weights': 'SqrtBalanced'}. Best is trial 3 with value: 0.8673197841507765.\u001b[0m\n"
     ]
    },
    {
     "name": "stdout",
     "output_type": "stream",
     "text": [
      "\n",
      "bestTest = 0.4178677513\n",
      "bestIteration = 96\n",
      "\n",
      "Training on fold [0/5]\n",
      "\n",
      "bestTest = 0.4440354\n",
      "bestIteration = 121\n",
      "\n",
      "Training on fold [1/5]\n",
      "\n",
      "bestTest = 0.4614264274\n",
      "bestIteration = 83\n",
      "\n",
      "Training on fold [2/5]\n",
      "\n",
      "bestTest = 0.4650216548\n",
      "bestIteration = 95\n",
      "\n",
      "Training on fold [3/5]\n",
      "\n",
      "bestTest = 0.4602119442\n",
      "bestIteration = 112\n",
      "\n",
      "Training on fold [4/5]\n"
     ]
    },
    {
     "name": "stderr",
     "output_type": "stream",
     "text": [
      "\u001b[32m[I 2022-04-18 16:13:39,007]\u001b[0m Trial 7 finished with value: 0.8672250888022962 and parameters: {'iterations': 500, 'learning_rate': 0.2714096381817127, 'random_strength': 4, 'bagging_temperature': 6, 'max_bin': 8, 'grow_policy': 'Depthwise', 'min_data_in_leaf': 1, 'max_depth': 2, 'l2_leaf_reg': 4.9369231964322795, 'one_hot_max_size': 1024, 'auto_class_weights': 'Balanced'}. Best is trial 3 with value: 0.8673197841507765.\u001b[0m\n"
     ]
    },
    {
     "name": "stdout",
     "output_type": "stream",
     "text": [
      "\n",
      "bestTest = 0.4456514123\n",
      "bestIteration = 97\n",
      "\n",
      "Training on fold [0/5]\n",
      "\n",
      "bestTest = 0.4123532346\n",
      "bestIteration = 104\n",
      "\n",
      "Training on fold [1/5]\n",
      "\n",
      "bestTest = 0.4271868471\n",
      "bestIteration = 124\n",
      "\n",
      "Training on fold [2/5]\n",
      "\n",
      "bestTest = 0.4362159169\n",
      "bestIteration = 75\n",
      "\n",
      "Training on fold [3/5]\n",
      "\n",
      "bestTest = 0.4300031643\n",
      "bestIteration = 86\n",
      "\n",
      "Training on fold [4/5]\n"
     ]
    },
    {
     "name": "stderr",
     "output_type": "stream",
     "text": [
      "\u001b[32m[I 2022-04-18 16:13:42,454]\u001b[0m Trial 8 finished with value: 0.8659015639885024 and parameters: {'iterations': 1500, 'learning_rate': 0.2053434310118264, 'random_strength': 8, 'bagging_temperature': 0, 'max_bin': 20, 'grow_policy': 'Depthwise', 'min_data_in_leaf': 10, 'max_depth': 3, 'l2_leaf_reg': 9.501510078266123e-06, 'one_hot_max_size': 500, 'auto_class_weights': 'SqrtBalanced'}. Best is trial 3 with value: 0.8673197841507765.\u001b[0m\n"
     ]
    },
    {
     "name": "stdout",
     "output_type": "stream",
     "text": [
      "\n",
      "bestTest = 0.4162955827\n",
      "bestIteration = 75\n",
      "\n",
      "Training on fold [0/5]\n",
      "\n",
      "bestTest = 0.4233132299\n",
      "bestIteration = 31\n",
      "\n",
      "Training on fold [1/5]\n",
      "\n",
      "bestTest = 0.4344171624\n",
      "bestIteration = 40\n",
      "\n",
      "Training on fold [2/5]\n",
      "\n",
      "bestTest = 0.4460072716\n",
      "bestIteration = 33\n",
      "\n",
      "Training on fold [3/5]\n",
      "\n",
      "bestTest = 0.4471374849\n",
      "bestIteration = 19\n",
      "\n",
      "Training on fold [4/5]\n"
     ]
    },
    {
     "name": "stderr",
     "output_type": "stream",
     "text": [
      "\u001b[32m[I 2022-04-18 16:14:01,764]\u001b[0m Trial 9 finished with value: 0.860100549476917 and parameters: {'iterations': 100, 'learning_rate': 0.25900665720714294, 'random_strength': 3, 'bagging_temperature': 0, 'max_bin': 6, 'grow_policy': 'Lossguide', 'min_data_in_leaf': 8, 'max_depth': 7, 'l2_leaf_reg': 1.1694576328936887e-07, 'one_hot_max_size': 12, 'auto_class_weights': 'SqrtBalanced'}. Best is trial 3 with value: 0.8673197841507765.\u001b[0m\n"
     ]
    },
    {
     "name": "stdout",
     "output_type": "stream",
     "text": [
      "\n",
      "bestTest = 0.4181117471\n",
      "bestIteration = 55\n",
      "\n"
     ]
    }
   ],
   "source": [
    "sampler = optuna.samplers.TPESampler(seed=68)  # Make the sampler behave in a deterministic way.\n",
    "study = optuna.create_study(direction=\"maximize\", sampler=sampler)\n",
    "study.optimize(objective, n_trials=10)"
   ]
  },
  {
   "cell_type": "code",
   "execution_count": 37,
   "metadata": {},
   "outputs": [
    {
     "name": "stdout",
     "output_type": "stream",
     "text": [
      "Number of finished trials: 10\n",
      "Best trial:\n",
      "  Value: 0.8673197841507765\n",
      "  Params: \n",
      "    iterations=1200,\n",
      "    learning_rate=0.0603209284932487,\n",
      "    random_strength=3,\n",
      "    bagging_temperature=7,\n",
      "    max_bin=4,\n",
      "    grow_policy=SymmetricTree,\n",
      "    min_data_in_leaf=2,\n",
      "    max_depth=2,\n",
      "    l2_leaf_reg=1.300471404766049e-07,\n",
      "    one_hot_max_size=10,\n",
      "    auto_class_weights=SqrtBalanced,\n"
     ]
    }
   ],
   "source": [
    "print(\"Number of finished trials: {}\".format(len(study.trials)))\n",
    "print(\"Best trial:\")\n",
    "trial = study.best_trial\n",
    "print(\"  Value: {}\".format(trial.value))\n",
    "print(\"  Params: \")\n",
    "for key, value in trial.params.items():\n",
    "    print(\"    {}={},\".format(key, value))"
   ]
  },
  {
   "cell_type": "code",
   "execution_count": 39,
   "metadata": {},
   "outputs": [],
   "source": [
    "final_model = CatBoostClassifier(verbose=False,  cat_features=categorical_A, \n",
    "                          **trial.params)"
   ]
  },
  {
   "cell_type": "code",
   "execution_count": 40,
   "metadata": {},
   "outputs": [
    {
     "data": {
      "text/plain": [
       "0.8814719809937959"
      ]
     },
     "execution_count": 40,
     "metadata": {},
     "output_type": "execute_result"
    }
   ],
   "source": [
    "final_model.fit(X_a, y_a)\n",
    "predictions_h1 = final_model.predict_proba(X_a)\n",
    "predictions_h1 = predictions_h1[:,1].reshape(-1,1)\n",
    "roc_auc_score(y_a, predictions_h1)"
   ]
  },
  {
   "cell_type": "code",
   "execution_count": 41,
   "metadata": {},
   "outputs": [],
   "source": [
    "train_dataset_B = Pool(data=X_b,\n",
    "                     label=y_b,\n",
    "                     cat_features = categorical_B)   "
   ]
  },
  {
   "cell_type": "code",
   "execution_count": 42,
   "metadata": {},
   "outputs": [],
   "source": [
    "def objective_b(trial):\n",
    "    param = {\n",
    "        'iterations':trial.suggest_categorical('iterations', [100,200,300,500,1000,1200,1500]),\n",
    "        'learning_rate':trial.suggest_float(\"learning_rate\", 0.001, 0.3),\n",
    "        'random_strength':trial.suggest_int(\"random_strength\", 1,10),\n",
    "        'bagging_temperature':trial.suggest_int(\"bagging_temperature\", 0,10),\n",
    "        'max_bin':trial.suggest_categorical('max_bin', [4,5,6,8,10,20,30]),\n",
    "        'grow_policy':trial.suggest_categorical('grow_policy', ['SymmetricTree', 'Depthwise', 'Lossguide']),\n",
    "        'min_data_in_leaf':trial.suggest_int(\"min_data_in_leaf\", 1,10),\n",
    "        'od_type' : \"Iter\",\n",
    "        'od_wait' : 100,\n",
    "        \"depth\": trial.suggest_int(\"max_depth\", 2,10),\n",
    "        \"l2_leaf_reg\": trial.suggest_loguniform(\"l2_leaf_reg\", 1e-8, 100),\n",
    "         'one_hot_max_size':trial.suggest_categorical('one_hot_max_size', [5,10,12,100,500,1024]),\n",
    "        'custom_metric' : ['AUC'],\n",
    "        \"loss_function\": \"Logloss\",\n",
    "        'auto_class_weights':trial.suggest_categorical('auto_class_weights', ['Balanced', 'SqrtBalanced']),\n",
    "        }\n",
    "\n",
    "    scores = cv(train_dataset_B,\n",
    "            param,\n",
    "            fold_count=5, \n",
    "            early_stopping_rounds=10,         \n",
    "            plot=False, verbose=False)\n",
    "\n",
    "    return scores['test-AUC-mean'].max()"
   ]
  },
  {
   "cell_type": "code",
   "execution_count": 43,
   "metadata": {},
   "outputs": [
    {
     "name": "stderr",
     "output_type": "stream",
     "text": [
      "\u001b[32m[I 2022-04-18 16:20:17,956]\u001b[0m A new study created in memory with name: no-name-6f148739-8805-4a96-8491-ef4eda776c33\u001b[0m\n"
     ]
    },
    {
     "name": "stdout",
     "output_type": "stream",
     "text": [
      "Training on fold [0/5]\n",
      "\n",
      "bestTest = 0.4677161393\n",
      "bestIteration = 605\n",
      "\n",
      "Training on fold [1/5]\n",
      "\n",
      "bestTest = 0.4642576936\n",
      "bestIteration = 554\n",
      "\n",
      "Training on fold [2/5]\n",
      "\n",
      "bestTest = 0.4751103054\n",
      "bestIteration = 667\n",
      "\n",
      "Training on fold [3/5]\n",
      "\n",
      "bestTest = 0.458888983\n",
      "bestIteration = 601\n",
      "\n",
      "Training on fold [4/5]\n"
     ]
    },
    {
     "name": "stderr",
     "output_type": "stream",
     "text": [
      "\u001b[32m[I 2022-04-18 16:20:39,529]\u001b[0m Trial 0 finished with value: 0.8604534084210627 and parameters: {'iterations': 1500, 'learning_rate': 0.029356482739949695, 'random_strength': 8, 'bagging_temperature': 10, 'max_bin': 6, 'grow_policy': 'SymmetricTree', 'min_data_in_leaf': 1, 'max_depth': 4, 'l2_leaf_reg': 0.001991194871120998, 'one_hot_max_size': 100, 'auto_class_weights': 'SqrtBalanced'}. Best is trial 0 with value: 0.8604534084210627.\u001b[0m\n"
     ]
    },
    {
     "name": "stdout",
     "output_type": "stream",
     "text": [
      "\n",
      "bestTest = 0.4666320162\n",
      "bestIteration = 553\n",
      "\n",
      "Training on fold [0/5]\n",
      "\n",
      "bestTest = 0.4659458357\n",
      "bestIteration = 161\n",
      "\n",
      "Training on fold [1/5]\n",
      "\n",
      "bestTest = 0.4655820674\n",
      "bestIteration = 130\n",
      "\n",
      "Training on fold [2/5]\n",
      "\n",
      "bestTest = 0.4754752572\n",
      "bestIteration = 180\n",
      "\n",
      "Training on fold [3/5]\n",
      "\n",
      "bestTest = 0.4575895913\n",
      "bestIteration = 166\n",
      "\n",
      "Training on fold [4/5]\n"
     ]
    },
    {
     "name": "stderr",
     "output_type": "stream",
     "text": [
      "\u001b[32m[I 2022-04-18 16:20:46,370]\u001b[0m Trial 1 finished with value: 0.860835217064848 and parameters: {'iterations': 200, 'learning_rate': 0.1464067066361795, 'random_strength': 10, 'bagging_temperature': 3, 'max_bin': 10, 'grow_policy': 'Depthwise', 'min_data_in_leaf': 1, 'max_depth': 3, 'l2_leaf_reg': 0.028402775147703313, 'one_hot_max_size': 500, 'auto_class_weights': 'SqrtBalanced'}. Best is trial 1 with value: 0.860835217064848.\u001b[0m\n"
     ]
    },
    {
     "name": "stdout",
     "output_type": "stream",
     "text": [
      "\n",
      "bestTest = 0.4634000181\n",
      "bestIteration = 162\n",
      "\n",
      "Training on fold [0/5]\n",
      "\n",
      "bestTest = 0.4709400283\n",
      "bestIteration = 61\n",
      "\n",
      "Training on fold [1/5]\n",
      "\n",
      "bestTest = 0.4689458595\n",
      "bestIteration = 52\n",
      "\n",
      "Training on fold [2/5]\n",
      "\n",
      "bestTest = 0.4749041811\n",
      "bestIteration = 68\n",
      "\n",
      "Training on fold [3/5]\n",
      "\n",
      "bestTest = 0.4618705103\n",
      "bestIteration = 75\n",
      "\n",
      "Training on fold [4/5]\n"
     ]
    },
    {
     "name": "stderr",
     "output_type": "stream",
     "text": [
      "\u001b[32m[I 2022-04-18 16:20:59,826]\u001b[0m Trial 2 finished with value: 0.8583071673691268 and parameters: {'iterations': 200, 'learning_rate': 0.27287829596201946, 'random_strength': 8, 'bagging_temperature': 8, 'max_bin': 10, 'grow_policy': 'SymmetricTree', 'min_data_in_leaf': 1, 'max_depth': 5, 'l2_leaf_reg': 0.027330135035255495, 'one_hot_max_size': 10, 'auto_class_weights': 'SqrtBalanced'}. Best is trial 1 with value: 0.860835217064848.\u001b[0m\n"
     ]
    },
    {
     "name": "stdout",
     "output_type": "stream",
     "text": [
      "\n",
      "bestTest = 0.4698336531\n",
      "bestIteration = 60\n",
      "\n",
      "Training on fold [0/5]\n",
      "\n",
      "bestTest = 0.4675610197\n",
      "bestIteration = 637\n",
      "\n",
      "Training on fold [1/5]\n",
      "\n",
      "bestTest = 0.4653707665\n",
      "bestIteration = 505\n",
      "\n",
      "Training on fold [2/5]\n",
      "\n",
      "bestTest = 0.4818324616\n",
      "bestIteration = 387\n",
      "\n",
      "Training on fold [3/5]\n",
      "\n",
      "bestTest = 0.4627337556\n",
      "bestIteration = 461\n",
      "\n",
      "Training on fold [4/5]\n"
     ]
    },
    {
     "name": "stderr",
     "output_type": "stream",
     "text": [
      "\u001b[32m[I 2022-04-18 16:21:40,455]\u001b[0m Trial 3 finished with value: 0.8590007530998008 and parameters: {'iterations': 1200, 'learning_rate': 0.0603209284932487, 'random_strength': 3, 'bagging_temperature': 7, 'max_bin': 4, 'grow_policy': 'SymmetricTree', 'min_data_in_leaf': 2, 'max_depth': 2, 'l2_leaf_reg': 1.300471404766049e-07, 'one_hot_max_size': 10, 'auto_class_weights': 'SqrtBalanced'}. Best is trial 1 with value: 0.860835217064848.\u001b[0m\n"
     ]
    },
    {
     "name": "stdout",
     "output_type": "stream",
     "text": [
      "\n",
      "bestTest = 0.4666959527\n",
      "bestIteration = 645\n",
      "\n",
      "Training on fold [0/5]\n",
      "\n",
      "bestTest = 0.4724766085\n",
      "bestIteration = 62\n",
      "\n",
      "Training on fold [1/5]\n",
      "\n",
      "bestTest = 0.4671351426\n",
      "bestIteration = 72\n",
      "\n",
      "Training on fold [2/5]\n",
      "\n",
      "bestTest = 0.477255272\n",
      "bestIteration = 89\n",
      "\n",
      "Training on fold [3/5]\n",
      "\n",
      "bestTest = 0.4606889044\n",
      "bestIteration = 84\n",
      "\n",
      "Training on fold [4/5]\n"
     ]
    },
    {
     "name": "stderr",
     "output_type": "stream",
     "text": [
      "\u001b[32m[I 2022-04-18 16:21:44,555]\u001b[0m Trial 4 finished with value: 0.8587186446963686 and parameters: {'iterations': 300, 'learning_rate': 0.22423670437233847, 'random_strength': 6, 'bagging_temperature': 2, 'max_bin': 30, 'grow_policy': 'SymmetricTree', 'min_data_in_leaf': 4, 'max_depth': 4, 'l2_leaf_reg': 0.00010293033487726667, 'one_hot_max_size': 500, 'auto_class_weights': 'SqrtBalanced'}. Best is trial 1 with value: 0.860835217064848.\u001b[0m\n"
     ]
    },
    {
     "name": "stdout",
     "output_type": "stream",
     "text": [
      "\n",
      "bestTest = 0.4666420163\n",
      "bestIteration = 79\n",
      "\n",
      "Training on fold [0/5]\n",
      "\n",
      "bestTest = 0.486724039\n",
      "bestIteration = 99\n",
      "\n",
      "Training on fold [1/5]\n",
      "\n",
      "bestTest = 0.4830672116\n",
      "bestIteration = 99\n",
      "\n",
      "Training on fold [2/5]\n",
      "\n",
      "bestTest = 0.4953518733\n",
      "bestIteration = 99\n",
      "\n",
      "Training on fold [3/5]\n",
      "\n",
      "bestTest = 0.4803112458\n",
      "bestIteration = 99\n",
      "\n",
      "Training on fold [4/5]\n"
     ]
    },
    {
     "name": "stderr",
     "output_type": "stream",
     "text": [
      "\u001b[32m[I 2022-04-18 16:21:48,471]\u001b[0m Trial 5 finished with value: 0.8497013466129747 and parameters: {'iterations': 100, 'learning_rate': 0.06628011038512191, 'random_strength': 4, 'bagging_temperature': 4, 'max_bin': 20, 'grow_policy': 'Lossguide', 'min_data_in_leaf': 3, 'max_depth': 2, 'l2_leaf_reg': 13.751833235431702, 'one_hot_max_size': 100, 'auto_class_weights': 'Balanced'}. Best is trial 1 with value: 0.860835217064848.\u001b[0m\n"
     ]
    },
    {
     "name": "stdout",
     "output_type": "stream",
     "text": [
      "\n",
      "bestTest = 0.4851971478\n",
      "bestIteration = 99\n",
      "\n",
      "Training on fold [0/5]\n",
      "\n",
      "bestTest = 0.4702186194\n",
      "bestIteration = 121\n",
      "\n",
      "Training on fold [1/5]\n",
      "\n",
      "bestTest = 0.4624518021\n",
      "bestIteration = 131\n",
      "\n",
      "Training on fold [2/5]\n",
      "\n",
      "bestTest = 0.4756433536\n",
      "bestIteration = 137\n",
      "\n",
      "Training on fold [3/5]\n",
      "\n",
      "bestTest = 0.4582297853\n",
      "bestIteration = 140\n",
      "\n",
      "Training on fold [4/5]\n"
     ]
    },
    {
     "name": "stderr",
     "output_type": "stream",
     "text": [
      "\u001b[32m[I 2022-04-18 16:22:46,962]\u001b[0m Trial 6 finished with value: 0.8596549654016881 and parameters: {'iterations': 1200, 'learning_rate': 0.09658215406978513, 'random_strength': 8, 'bagging_temperature': 2, 'max_bin': 30, 'grow_policy': 'Depthwise', 'min_data_in_leaf': 6, 'max_depth': 10, 'l2_leaf_reg': 2.6558249848041764, 'one_hot_max_size': 5, 'auto_class_weights': 'SqrtBalanced'}. Best is trial 1 with value: 0.860835217064848.\u001b[0m\n"
     ]
    },
    {
     "name": "stdout",
     "output_type": "stream",
     "text": [
      "\n",
      "bestTest = 0.4698047729\n",
      "bestIteration = 116\n",
      "\n",
      "Training on fold [0/5]\n",
      "\n",
      "bestTest = 0.4661159677\n",
      "bestIteration = 170\n",
      "\n",
      "Training on fold [1/5]\n",
      "\n",
      "bestTest = 0.4639159999\n",
      "bestIteration = 135\n",
      "\n",
      "Training on fold [2/5]\n",
      "\n",
      "bestTest = 0.4803234805\n",
      "bestIteration = 98\n",
      "\n",
      "Training on fold [3/5]\n",
      "\n",
      "bestTest = 0.4587321033\n",
      "bestIteration = 151\n",
      "\n",
      "Training on fold [4/5]\n"
     ]
    },
    {
     "name": "stderr",
     "output_type": "stream",
     "text": [
      "\u001b[32m[I 2022-04-18 16:22:51,779]\u001b[0m Trial 7 finished with value: 0.8599081685355614 and parameters: {'iterations': 500, 'learning_rate': 0.2714096381817127, 'random_strength': 4, 'bagging_temperature': 6, 'max_bin': 8, 'grow_policy': 'Depthwise', 'min_data_in_leaf': 1, 'max_depth': 2, 'l2_leaf_reg': 4.9369231964322795, 'one_hot_max_size': 1024, 'auto_class_weights': 'Balanced'}. Best is trial 1 with value: 0.860835217064848.\u001b[0m\n"
     ]
    },
    {
     "name": "stdout",
     "output_type": "stream",
     "text": [
      "\n",
      "bestTest = 0.468796333\n",
      "bestIteration = 100\n",
      "\n",
      "Training on fold [0/5]\n",
      "\n",
      "bestTest = 0.4707739679\n",
      "bestIteration = 77\n",
      "\n",
      "Training on fold [1/5]\n",
      "\n",
      "bestTest = 0.4663297585\n",
      "bestIteration = 84\n",
      "\n",
      "Training on fold [2/5]\n",
      "\n",
      "bestTest = 0.4755019722\n",
      "bestIteration = 105\n",
      "\n",
      "Training on fold [3/5]\n",
      "\n",
      "bestTest = 0.4586111376\n",
      "bestIteration = 99\n",
      "\n",
      "Training on fold [4/5]\n"
     ]
    },
    {
     "name": "stderr",
     "output_type": "stream",
     "text": [
      "\u001b[32m[I 2022-04-18 16:22:55,590]\u001b[0m Trial 8 finished with value: 0.8590965794027419 and parameters: {'iterations': 1500, 'learning_rate': 0.2053434310118264, 'random_strength': 8, 'bagging_temperature': 0, 'max_bin': 20, 'grow_policy': 'Depthwise', 'min_data_in_leaf': 10, 'max_depth': 3, 'l2_leaf_reg': 9.501510078266123e-06, 'one_hot_max_size': 500, 'auto_class_weights': 'SqrtBalanced'}. Best is trial 1 with value: 0.860835217064848.\u001b[0m\n"
     ]
    },
    {
     "name": "stdout",
     "output_type": "stream",
     "text": [
      "\n",
      "bestTest = 0.4692711366\n",
      "bestIteration = 100\n",
      "\n",
      "Training on fold [0/5]\n",
      "\n",
      "bestTest = 0.484405731\n",
      "bestIteration = 21\n",
      "\n",
      "Training on fold [1/5]\n",
      "\n",
      "bestTest = 0.4741623335\n",
      "bestIteration = 34\n",
      "\n",
      "Training on fold [2/5]\n",
      "\n",
      "bestTest = 0.490215162\n",
      "bestIteration = 28\n",
      "\n",
      "Training on fold [3/5]\n",
      "\n",
      "bestTest = 0.469051336\n",
      "bestIteration = 41\n",
      "\n",
      "Training on fold [4/5]\n"
     ]
    },
    {
     "name": "stderr",
     "output_type": "stream",
     "text": [
      "\u001b[32m[I 2022-04-18 16:23:14,833]\u001b[0m Trial 9 finished with value: 0.8534060466836741 and parameters: {'iterations': 100, 'learning_rate': 0.25900665720714294, 'random_strength': 3, 'bagging_temperature': 0, 'max_bin': 6, 'grow_policy': 'Lossguide', 'min_data_in_leaf': 8, 'max_depth': 7, 'l2_leaf_reg': 1.1694576328936887e-07, 'one_hot_max_size': 12, 'auto_class_weights': 'SqrtBalanced'}. Best is trial 1 with value: 0.860835217064848.\u001b[0m\n"
     ]
    },
    {
     "name": "stdout",
     "output_type": "stream",
     "text": [
      "\n",
      "bestTest = 0.4743536141\n",
      "bestIteration = 39\n",
      "\n"
     ]
    }
   ],
   "source": [
    "sampler = optuna.samplers.TPESampler(seed=68)  # Make the sampler behave in a deterministic way.\n",
    "study_b = optuna.create_study(direction=\"maximize\", sampler=sampler)\n",
    "study_b.optimize(objective_b, n_trials=10)"
   ]
  },
  {
   "cell_type": "code",
   "execution_count": 45,
   "metadata": {},
   "outputs": [
    {
     "name": "stdout",
     "output_type": "stream",
     "text": [
      "Number of finished trials: 10\n",
      "Best trial:\n",
      "  Value: 0.860835217064848\n",
      "  Params: \n",
      "    iterations=200,\n",
      "    learning_rate=0.1464067066361795,\n",
      "    random_strength=10,\n",
      "    bagging_temperature=3,\n",
      "    max_bin=10,\n",
      "    grow_policy=Depthwise,\n",
      "    min_data_in_leaf=1,\n",
      "    max_depth=3,\n",
      "    l2_leaf_reg=0.028402775147703313,\n",
      "    one_hot_max_size=500,\n",
      "    auto_class_weights=SqrtBalanced,\n"
     ]
    }
   ],
   "source": [
    "print(\"Number of finished trials: {}\".format(len(study_b.trials)))\n",
    "print(\"Best trial:\")\n",
    "trial_b = study_b.best_trial\n",
    "print(\"  Value: {}\".format(trial_b.value))\n",
    "print(\"  Params: \")\n",
    "for key, value in trial_b.params.items():\n",
    "    print(\"    {}={},\".format(key, value))"
   ]
  },
  {
   "cell_type": "code",
   "execution_count": 46,
   "metadata": {},
   "outputs": [],
   "source": [
    "final_model_b = CatBoostClassifier(verbose=False,  cat_features=categorical_B, \n",
    "                                    **trial_b.params)"
   ]
  },
  {
   "cell_type": "code",
   "execution_count": 47,
   "metadata": {},
   "outputs": [
    {
     "data": {
      "text/plain": [
       "0.8770142521380235"
      ]
     },
     "execution_count": 47,
     "metadata": {},
     "output_type": "execute_result"
    }
   ],
   "source": [
    "final_model_b.fit(X_b, y_b)\n",
    "predictions_se = final_model_b.predict_proba(X_b)\n",
    "predictions_se = predictions_se[:,1].reshape(-1,1)\n",
    "roc_auc_score(y_b, predictions_se)"
   ]
  },
  {
   "cell_type": "code",
   "execution_count": 59,
   "metadata": {},
   "outputs": [],
   "source": [
    "final_se = final_model_b.predict_proba(test_A)\n",
    "final_se = final_se[:,1].reshape(-1,1)\n",
    "\n",
    "final_h1 = final_model.predict_proba(test_B)\n",
    "final_h1 = final_h1[:,1].reshape(-1,1)"
   ]
  },
  {
   "cell_type": "code",
   "execution_count": 66,
   "metadata": {},
   "outputs": [],
   "source": [
    "submission_df = pd.read_csv(\"./submission_format.csv\", \n",
    "                            index_col=\"respondent_id\")"
   ]
  },
  {
   "cell_type": "code",
   "execution_count": 68,
   "metadata": {},
   "outputs": [
    {
     "data": {
      "text/html": [
       "<div>\n",
       "<style scoped>\n",
       "    .dataframe tbody tr th:only-of-type {\n",
       "        vertical-align: middle;\n",
       "    }\n",
       "\n",
       "    .dataframe tbody tr th {\n",
       "        vertical-align: top;\n",
       "    }\n",
       "\n",
       "    .dataframe thead th {\n",
       "        text-align: right;\n",
       "    }\n",
       "</style>\n",
       "<table border=\"1\" class=\"dataframe\">\n",
       "  <thead>\n",
       "    <tr style=\"text-align: right;\">\n",
       "      <th></th>\n",
       "      <th>h1n1_vaccine</th>\n",
       "      <th>seasonal_vaccine</th>\n",
       "    </tr>\n",
       "    <tr>\n",
       "      <th>respondent_id</th>\n",
       "      <th></th>\n",
       "      <th></th>\n",
       "    </tr>\n",
       "  </thead>\n",
       "  <tbody>\n",
       "    <tr>\n",
       "      <th>26707</th>\n",
       "      <td>0.194324</td>\n",
       "      <td>0.292885</td>\n",
       "    </tr>\n",
       "    <tr>\n",
       "      <th>26708</th>\n",
       "      <td>0.050537</td>\n",
       "      <td>0.036695</td>\n",
       "    </tr>\n",
       "    <tr>\n",
       "      <th>26709</th>\n",
       "      <td>0.349791</td>\n",
       "      <td>0.732783</td>\n",
       "    </tr>\n",
       "    <tr>\n",
       "      <th>26710</th>\n",
       "      <td>0.654924</td>\n",
       "      <td>0.830654</td>\n",
       "    </tr>\n",
       "    <tr>\n",
       "      <th>26711</th>\n",
       "      <td>0.545811</td>\n",
       "      <td>0.507132</td>\n",
       "    </tr>\n",
       "  </tbody>\n",
       "</table>\n",
       "</div>"
      ],
      "text/plain": [
       "               h1n1_vaccine  seasonal_vaccine\n",
       "respondent_id                                \n",
       "26707              0.194324          0.292885\n",
       "26708              0.050537          0.036695\n",
       "26709              0.349791          0.732783\n",
       "26710              0.654924          0.830654\n",
       "26711              0.545811          0.507132"
      ]
     },
     "execution_count": 68,
     "metadata": {},
     "output_type": "execute_result"
    }
   ],
   "source": [
    "# Save predictions to submission data frame\n",
    "submission_df[\"h1n1_vaccine\"] = final_h1\n",
    "submission_df[\"seasonal_vaccine\"] = final_se\n",
    "\n",
    "submission_df.head()"
   ]
  },
  {
   "cell_type": "code",
   "execution_count": 72,
   "metadata": {},
   "outputs": [],
   "source": [
    "submission_df.to_csv(f'output_catboost_optuna.csv', index=True)"
   ]
  }
 ],
 "metadata": {
  "kernelspec": {
   "display_name": "Python 3",
   "language": "python",
   "name": "python3"
  },
  "language_info": {
   "codemirror_mode": {
    "name": "ipython",
    "version": 3
   },
   "file_extension": ".py",
   "mimetype": "text/x-python",
   "name": "python",
   "nbconvert_exporter": "python",
   "pygments_lexer": "ipython3",
   "version": "3.9.7"
  }
 },
 "nbformat": 4,
 "nbformat_minor": 4
}
